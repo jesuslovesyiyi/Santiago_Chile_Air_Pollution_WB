{
 "cells": [
  {
   "cell_type": "markdown",
   "metadata": {
    "toc": true
   },
   "source": [
    "<h1>Table of Contents<span class=\"tocSkip\"></span></h1>\n",
    "<div class=\"toc\"><ul class=\"toc-item\"><li><span><a href=\"#Libraries\" data-toc-modified-id=\"Libraries-1\"><span class=\"toc-item-num\">1&nbsp;&nbsp;</span>Libraries</a></span></li><li><span><a href=\"#Build-road-network-model\" data-toc-modified-id=\"Build-road-network-model-2\"><span class=\"toc-item-num\">2&nbsp;&nbsp;</span>Build road network model</a></span></li><li><span><a href=\"#OD-Trip-simulation\" data-toc-modified-id=\"OD-Trip-simulation-3\"><span class=\"toc-item-num\">3&nbsp;&nbsp;</span>OD Trip simulation</a></span><ul class=\"toc-item\"><li><span><a href=\"#Find-closest-road-access-points-for-centriods\" data-toc-modified-id=\"Find-closest-road-access-points-for-centriods-3.1\"><span class=\"toc-item-num\">3.1&nbsp;&nbsp;</span>Find closest road access points for centriods</a></span></li><li><span><a href=\"#Simulate-trips-between-sampled-OD-pairs\" data-toc-modified-id=\"Simulate-trips-between-sampled-OD-pairs-3.2\"><span class=\"toc-item-num\">3.2&nbsp;&nbsp;</span>Simulate trips between sampled OD pairs</a></span><ul class=\"toc-item\"><li><span><a href=\"#Prep-the-graph\" data-toc-modified-id=\"Prep-the-graph-3.2.1\"><span class=\"toc-item-num\">3.2.1&nbsp;&nbsp;</span>Prep the graph</a></span></li><li><span><a href=\"#Add-travel-speed-and-travel-time-on-edges\" data-toc-modified-id=\"Add-travel-speed-and-travel-time-on-edges-3.2.2\"><span class=\"toc-item-num\">3.2.2&nbsp;&nbsp;</span>Add travel speed and travel time on edges</a></span></li><li><span><a href=\"#Prepare-sampling-dataframe\" data-toc-modified-id=\"Prepare-sampling-dataframe-3.2.3\"><span class=\"toc-item-num\">3.2.3&nbsp;&nbsp;</span>Prepare sampling dataframe</a></span></li><li><span><a href=\"#Run\" data-toc-modified-id=\"Run-3.2.4\"><span class=\"toc-item-num\">3.2.4&nbsp;&nbsp;</span>Run</a></span></li></ul></li></ul></li><li><span><a href=\"#Travel-frequency-on-road-segments\" data-toc-modified-id=\"Travel-frequency-on-road-segments-4\"><span class=\"toc-item-num\">4&nbsp;&nbsp;</span>Travel frequency on road segments</a></span><ul class=\"toc-item\"><li><span><a href=\"#Preparation\" data-toc-modified-id=\"Preparation-4.1\"><span class=\"toc-item-num\">4.1&nbsp;&nbsp;</span>Preparation</a></span></li><li><span><a href=\"#Assign-travel-frequency\" data-toc-modified-id=\"Assign-travel-frequency-4.2\"><span class=\"toc-item-num\">4.2&nbsp;&nbsp;</span>Assign travel frequency</a></span></li></ul></li></ul></div>"
   ]
  },
  {
   "cell_type": "markdown",
   "metadata": {},
   "source": [
    "# Libraries"
   ]
  },
  {
   "cell_type": "code",
   "execution_count": 57,
   "metadata": {
    "ExecuteTime": {
     "end_time": "2023-03-31T19:27:40.717987Z",
     "start_time": "2023-03-31T19:27:40.713888Z"
    }
   },
   "outputs": [],
   "source": [
    "import os\n",
    "import sys\n",
    "import networkx as nx\n",
    "import osmnx as ox\n",
    "import numpy as np\n",
    "import geopandas as gpd\n",
    "import random\n",
    "import matplotlib.pyplot as plt\n",
    "import pandas as pd\n",
    "import pickle\n",
    "from tqdm import tqdm\n",
    "from sklearn.preprocessing import MinMaxScaler\n",
    "import itertools\n",
    "from collections import Counter\n",
    "\n",
    "import warnings; warnings.simplefilter('ignore')\n",
    "\n",
    "pd.options.display.max_columns = None\n",
    "pd.options.display.max_rows = 15"
   ]
  },
  {
   "cell_type": "markdown",
   "metadata": {},
   "source": [
    "# Build road network model"
   ]
  },
  {
   "cell_type": "code",
   "execution_count": 3,
   "metadata": {
    "ExecuteTime": {
     "end_time": "2023-03-22T22:22:18.828439Z",
     "start_time": "2023-03-22T22:22:18.733021Z"
    }
   },
   "outputs": [],
   "source": [
    "# Specify file path of the Santiago convex hull\n",
    "santiago_convexhull_path = '../../Air_pollution/02_data/santiago_pop_convex_hull.shp'\n",
    "\n",
    "# Get graph (drive + service roads) from OSM\n",
    "# define coordinate system as EPSG: 4326, WGS84 - World Geodetic System 1984, used in GPS\n",
    "crs_lonlat = {'init': 'epsg:' + str(4326)}\n",
    "\n",
    "# Read convex hull boundary file\n",
    "bnd = gpd.read_file(santiago_convexhull_path).to_crs(crs_lonlat)"
   ]
  },
  {
   "cell_type": "markdown",
   "metadata": {},
   "source": [
    "Simple plot of the boundary"
   ]
  },
  {
   "cell_type": "code",
   "execution_count": 4,
   "metadata": {
    "ExecuteTime": {
     "end_time": "2023-03-22T22:22:20.534043Z",
     "start_time": "2023-03-22T22:22:20.380682Z"
    }
   },
   "outputs": [
    {
     "data": {
      "text/plain": [
       "<AxesSubplot:>"
      ]
     },
     "execution_count": 4,
     "metadata": {},
     "output_type": "execute_result"
    },
    {
     "data": {
      "image/png": "[encoded data removed]",
      "text/plain": [
       "<Figure size 432x288 with 1 Axes>"
      ]
     },
     "metadata": {
      "needs_background": "light"
     },
     "output_type": "display_data"
    }
   ],
   "source": [
    "bnd.plot()"
   ]
  },
  {
   "cell_type": "markdown",
   "metadata": {},
   "source": [
    "Extracting network from OSM database using OSMnx"
   ]
  },
  {
   "cell_type": "code",
   "execution_count": 5,
   "metadata": {
    "ExecuteTime": {
     "end_time": "2023-03-22T22:30:32.474156Z",
     "start_time": "2023-03-22T22:22:31.268990Z"
    }
   },
   "outputs": [],
   "source": [
    "# Create graph using OSMnx, extracting all available road networks\n",
    "###\n",
    "# method: osmnx.graph_from_polygon(.shp, network_type, etc.)\n",
    "# ‘drive’         – get drivable public streets (but not service roads)\n",
    "# ‘drive_service’ – get drivable public streets, including service roads\n",
    "# ‘walk’          – get all streets and paths that pedestrians can use (this network type ignores one-way directionality)\n",
    "# ‘bike’         – get all streets and paths that cyclists can use\n",
    "# ‘all’          – download all (non-private) OSM streets and paths\n",
    "# ‘all_private’  – download all OSM streets and paths, including private-access ones\n",
    "###\n",
    "G = ox.graph_from_polygon(bnd.geometry[0], network_type='all_private')"
   ]
  },
  {
   "cell_type": "code",
   "execution_count": 6,
   "metadata": {
    "ExecuteTime": {
     "end_time": "2023-03-22T22:34:36.256625Z",
     "start_time": "2023-03-22T22:34:30.974559Z"
    }
   },
   "outputs": [],
   "source": [
    "# Save graph file as .pk\n",
    "with open('../../Air_pollution/02_data/santiago_osmnx_all_private_graph.pk', 'wb') as handle:\n",
    "    pickle.dump(G, handle, protocol=2)"
   ]
  },
  {
   "cell_type": "code",
   "execution_count": 8,
   "metadata": {
    "ExecuteTime": {
     "end_time": "2023-03-22T22:40:21.846966Z",
     "start_time": "2023-03-22T22:35:25.894700Z"
    }
   },
   "outputs": [],
   "source": [
    "# Save as shapefile\n",
    "G_shp_out_dir = '../../Air_pollution/02_data/'\n",
    "ox.io.save_graph_shapefile(G, filepath=G_shp_out_dir)"
   ]
  },
  {
   "cell_type": "markdown",
   "metadata": {},
   "source": [
    "# OD Trip simulation"
   ]
  },
  {
   "cell_type": "markdown",
   "metadata": {},
   "source": [
    "Run the cell below to load the graph file"
   ]
  },
  {
   "cell_type": "code",
   "execution_count": 24,
   "metadata": {
    "ExecuteTime": {
     "end_time": "2023-03-28T21:28:32.913571Z",
     "start_time": "2023-03-28T21:28:25.459514Z"
    }
   },
   "outputs": [],
   "source": [
    "G =  pickle.load(open('../../Air_pollution/02_data/santiago_osmnx_all_private_graph.pk', 'rb'))"
   ]
  },
  {
   "cell_type": "markdown",
   "metadata": {},
   "source": [
    "## Find closest road access points for centriods"
   ]
  },
  {
   "cell_type": "code",
   "execution_count": 3,
   "metadata": {
    "ExecuteTime": {
     "end_time": "2023-03-25T00:03:09.805167Z",
     "start_time": "2023-03-25T00:02:24.699889Z"
    }
   },
   "outputs": [
    {
     "data": {
      "text/html": [
       "<div>\n",
       "<style scoped>\n",
       "    .dataframe tbody tr th:only-of-type {\n",
       "        vertical-align: middle;\n",
       "    }\n",
       "\n",
       "    .dataframe tbody tr th {\n",
       "        vertical-align: top;\n",
       "    }\n",
       "\n",
       "    .dataframe thead th {\n",
       "        text-align: right;\n",
       "    }\n",
       "</style>\n",
       "<table border=\"1\" class=\"dataframe\">\n",
       "  <thead>\n",
       "    <tr style=\"text-align: right;\">\n",
       "      <th></th>\n",
       "      <th>fid_1</th>\n",
       "      <th>CUT</th>\n",
       "      <th>REGION</th>\n",
       "      <th>PROVINCIA</th>\n",
       "      <th>COMUNA</th>\n",
       "      <th>NOMBRE_DIS</th>\n",
       "      <th>CODIGO_DIS</th>\n",
       "      <th>MANZENT</th>\n",
       "      <th>ZONA_CENSA</th>\n",
       "      <th>MANZANA</th>\n",
       "      <th>TOTAL_PERS</th>\n",
       "      <th>TOTAL_HOMB</th>\n",
       "      <th>TOTAL_MUJE</th>\n",
       "      <th>PERSONAS_0</th>\n",
       "      <th>PERSONAS_6</th>\n",
       "      <th>PERSONAS_1</th>\n",
       "      <th>PERSONAS_M</th>\n",
       "      <th>PERSONAS_E</th>\n",
       "      <th>PUEBLOS_IN</th>\n",
       "      <th>TOTAL_VIV_</th>\n",
       "      <th>TOTAL_VIV1</th>\n",
       "      <th>VIV_OCUPA_</th>\n",
       "      <th>TOTAL_VIVI</th>\n",
       "      <th>CANTIDAD_H</th>\n",
       "      <th>VIV_TIPO_C</th>\n",
       "      <th>VIV_TIPO_D</th>\n",
       "      <th>VIV_TIPO_T</th>\n",
       "      <th>VIV_TIPO_P</th>\n",
       "      <th>VIV_TIPO_M</th>\n",
       "      <th>VIV_TIPO_1</th>\n",
       "      <th>VIV_TIPO_O</th>\n",
       "      <th>VIV_PARED_</th>\n",
       "      <th>VIV_PARED1</th>\n",
       "      <th>VIV_PARE_1</th>\n",
       "      <th>VIV_PARE_2</th>\n",
       "      <th>VIV_PARE_3</th>\n",
       "      <th>VIV_PARE_4</th>\n",
       "      <th>VIV_TECHO_</th>\n",
       "      <th>VIV_TECHO1</th>\n",
       "      <th>VIV_TECH_1</th>\n",
       "      <th>VIV_TECH_2</th>\n",
       "      <th>VIV_TECH_3</th>\n",
       "      <th>VIV_TECH_4</th>\n",
       "      <th>VIV_TECH_5</th>\n",
       "      <th>VIV_PISO_P</th>\n",
       "      <th>VIV_PISO_R</th>\n",
       "      <th>VIV_PISO_B</th>\n",
       "      <th>VIV_PISO_C</th>\n",
       "      <th>VIV_PISO_T</th>\n",
       "      <th>VIV_MATERI</th>\n",
       "      <th>VIV_MATE_1</th>\n",
       "      <th>VIV_MATE_2</th>\n",
       "      <th>VIV_AGUA_R</th>\n",
       "      <th>VIV_AGUA_P</th>\n",
       "      <th>VIV_AGUA_C</th>\n",
       "      <th>VIV_AGUA_1</th>\n",
       "      <th>Manzana_ce</th>\n",
       "      <th>Manzana__1</th>\n",
       "      <th>Manzana__2</th>\n",
       "      <th>Manzana__3</th>\n",
       "      <th>centroid_x</th>\n",
       "      <th>centroid_y</th>\n",
       "      <th>geometry</th>\n",
       "    </tr>\n",
       "  </thead>\n",
       "  <tbody>\n",
       "    <tr>\n",
       "      <th>0</th>\n",
       "      <td>1.0</td>\n",
       "      <td>13101.0</td>\n",
       "      <td>REGIÓN METROPOLITANA DE SANTIAGO</td>\n",
       "      <td>SANTIAGO</td>\n",
       "      <td>SANTIAGO</td>\n",
       "      <td>MATADERO</td>\n",
       "      <td>21.0</td>\n",
       "      <td>13101211002011</td>\n",
       "      <td>2.0</td>\n",
       "      <td>11.0</td>\n",
       "      <td>189.0</td>\n",
       "      <td>90</td>\n",
       "      <td>99</td>\n",
       "      <td>9</td>\n",
       "      <td>14</td>\n",
       "      <td>142</td>\n",
       "      <td>24</td>\n",
       "      <td>15</td>\n",
       "      <td>14</td>\n",
       "      <td>100.0</td>\n",
       "      <td>0.0</td>\n",
       "      <td>83.0</td>\n",
       "      <td>100.0</td>\n",
       "      <td>83.0</td>\n",
       "      <td>4.0</td>\n",
       "      <td>89.0</td>\n",
       "      <td>0.0</td>\n",
       "      <td>7.0</td>\n",
       "      <td>0.0</td>\n",
       "      <td>0.0</td>\n",
       "      <td>0.0</td>\n",
       "      <td>74.0</td>\n",
       "      <td>9.0</td>\n",
       "      <td>0.0</td>\n",
       "      <td>0.0</td>\n",
       "      <td>0.0</td>\n",
       "      <td>0.0</td>\n",
       "      <td>34.0</td>\n",
       "      <td>38.0</td>\n",
       "      <td>11.0</td>\n",
       "      <td>0.0</td>\n",
       "      <td>0.0</td>\n",
       "      <td>0.0</td>\n",
       "      <td>0.0</td>\n",
       "      <td>83.0</td>\n",
       "      <td>0.0</td>\n",
       "      <td>0.0</td>\n",
       "      <td>0.0</td>\n",
       "      <td>0.0</td>\n",
       "      <td>83.0</td>\n",
       "      <td>0.0</td>\n",
       "      <td>0.0</td>\n",
       "      <td>82.0</td>\n",
       "      <td>0.0</td>\n",
       "      <td>0.0</td>\n",
       "      <td>0.0</td>\n",
       "      <td>0.121693</td>\n",
       "      <td>0.126984</td>\n",
       "      <td>0.079365</td>\n",
       "      <td>0.074074</td>\n",
       "      <td>-7864610.0</td>\n",
       "      <td>-3958370.0</td>\n",
       "      <td>POINT (-70.64899 -33.47385)</td>\n",
       "    </tr>\n",
       "    <tr>\n",
       "      <th>1</th>\n",
       "      <td>2.0</td>\n",
       "      <td>13102.0</td>\n",
       "      <td>REGIÓN METROPOLITANA DE SANTIAGO</td>\n",
       "      <td>SANTIAGO</td>\n",
       "      <td>CERRILLOS</td>\n",
       "      <td>DIVINO MAESTRO</td>\n",
       "      <td>3.0</td>\n",
       "      <td>13102031005035</td>\n",
       "      <td>5.0</td>\n",
       "      <td>35.0</td>\n",
       "      <td>80.0</td>\n",
       "      <td>39</td>\n",
       "      <td>41</td>\n",
       "      <td>8</td>\n",
       "      <td>7</td>\n",
       "      <td>51</td>\n",
       "      <td>14</td>\n",
       "      <td>Indeterminado</td>\n",
       "      <td>5</td>\n",
       "      <td>20.0</td>\n",
       "      <td>0.0</td>\n",
       "      <td>20.0</td>\n",
       "      <td>20.0</td>\n",
       "      <td>23.0</td>\n",
       "      <td>20.0</td>\n",
       "      <td>0.0</td>\n",
       "      <td>0.0</td>\n",
       "      <td>0.0</td>\n",
       "      <td>0.0</td>\n",
       "      <td>0.0</td>\n",
       "      <td>0.0</td>\n",
       "      <td>2.0</td>\n",
       "      <td>12.0</td>\n",
       "      <td>4.0</td>\n",
       "      <td>2.0</td>\n",
       "      <td>0.0</td>\n",
       "      <td>0.0</td>\n",
       "      <td>5.0</td>\n",
       "      <td>0.0</td>\n",
       "      <td>14.0</td>\n",
       "      <td>1.0</td>\n",
       "      <td>0.0</td>\n",
       "      <td>0.0</td>\n",
       "      <td>0.0</td>\n",
       "      <td>14.0</td>\n",
       "      <td>0.0</td>\n",
       "      <td>6.0</td>\n",
       "      <td>0.0</td>\n",
       "      <td>0.0</td>\n",
       "      <td>12.0</td>\n",
       "      <td>8.0</td>\n",
       "      <td>0.0</td>\n",
       "      <td>20.0</td>\n",
       "      <td>0.0</td>\n",
       "      <td>0.0</td>\n",
       "      <td>0.0</td>\n",
       "      <td>0.187500</td>\n",
       "      <td>0.175000</td>\n",
       "      <td>999.000000</td>\n",
       "      <td>0.062500</td>\n",
       "      <td>-7874070.0</td>\n",
       "      <td>-3961680.0</td>\n",
       "      <td>POINT (-70.73397 -33.49865)</td>\n",
       "    </tr>\n",
       "    <tr>\n",
       "      <th>2</th>\n",
       "      <td>3.0</td>\n",
       "      <td>13102.0</td>\n",
       "      <td>REGIÓN METROPOLITANA DE SANTIAGO</td>\n",
       "      <td>SANTIAGO</td>\n",
       "      <td>CERRILLOS</td>\n",
       "      <td>DIVINO MAESTRO</td>\n",
       "      <td>3.0</td>\n",
       "      <td>13102031003007</td>\n",
       "      <td>3.0</td>\n",
       "      <td>7.0</td>\n",
       "      <td>29.0</td>\n",
       "      <td>13</td>\n",
       "      <td>16</td>\n",
       "      <td>Indeterminado</td>\n",
       "      <td>Indeterminado</td>\n",
       "      <td>17</td>\n",
       "      <td>8</td>\n",
       "      <td>0</td>\n",
       "      <td>Indeterminado</td>\n",
       "      <td>9.0</td>\n",
       "      <td>0.0</td>\n",
       "      <td>9.0</td>\n",
       "      <td>9.0</td>\n",
       "      <td>11.0</td>\n",
       "      <td>9.0</td>\n",
       "      <td>0.0</td>\n",
       "      <td>0.0</td>\n",
       "      <td>0.0</td>\n",
       "      <td>0.0</td>\n",
       "      <td>0.0</td>\n",
       "      <td>0.0</td>\n",
       "      <td>0.0</td>\n",
       "      <td>9.0</td>\n",
       "      <td>0.0</td>\n",
       "      <td>0.0</td>\n",
       "      <td>0.0</td>\n",
       "      <td>0.0</td>\n",
       "      <td>0.0</td>\n",
       "      <td>0.0</td>\n",
       "      <td>9.0</td>\n",
       "      <td>0.0</td>\n",
       "      <td>0.0</td>\n",
       "      <td>0.0</td>\n",
       "      <td>0.0</td>\n",
       "      <td>9.0</td>\n",
       "      <td>0.0</td>\n",
       "      <td>0.0</td>\n",
       "      <td>0.0</td>\n",
       "      <td>0.0</td>\n",
       "      <td>9.0</td>\n",
       "      <td>0.0</td>\n",
       "      <td>0.0</td>\n",
       "      <td>9.0</td>\n",
       "      <td>0.0</td>\n",
       "      <td>0.0</td>\n",
       "      <td>0.0</td>\n",
       "      <td>0.000000</td>\n",
       "      <td>0.275862</td>\n",
       "      <td>0.000000</td>\n",
       "      <td>999.000000</td>\n",
       "      <td>-7872570.0</td>\n",
       "      <td>-3961700.0</td>\n",
       "      <td>POINT (-70.72050 -33.49880)</td>\n",
       "    </tr>\n",
       "  </tbody>\n",
       "</table>\n",
       "</div>"
      ],
      "text/plain": [
       "   fid_1      CUT                            REGION PROVINCIA     COMUNA  \\\n",
       "0    1.0  13101.0  REGIÓN METROPOLITANA DE SANTIAGO  SANTIAGO   SANTIAGO   \n",
       "1    2.0  13102.0  REGIÓN METROPOLITANA DE SANTIAGO  SANTIAGO  CERRILLOS   \n",
       "2    3.0  13102.0  REGIÓN METROPOLITANA DE SANTIAGO  SANTIAGO  CERRILLOS   \n",
       "\n",
       "       NOMBRE_DIS  CODIGO_DIS         MANZENT  ZONA_CENSA  MANZANA  \\\n",
       "0        MATADERO        21.0  13101211002011         2.0     11.0   \n",
       "1  DIVINO MAESTRO         3.0  13102031005035         5.0     35.0   \n",
       "2  DIVINO MAESTRO         3.0  13102031003007         3.0      7.0   \n",
       "\n",
       "   TOTAL_PERS TOTAL_HOMB TOTAL_MUJE     PERSONAS_0     PERSONAS_6 PERSONAS_1  \\\n",
       "0       189.0         90         99              9             14        142   \n",
       "1        80.0         39         41              8              7         51   \n",
       "2        29.0         13         16  Indeterminado  Indeterminado         17   \n",
       "\n",
       "  PERSONAS_M     PERSONAS_E     PUEBLOS_IN  TOTAL_VIV_  TOTAL_VIV1  \\\n",
       "0         24             15             14       100.0         0.0   \n",
       "1         14  Indeterminado              5        20.0         0.0   \n",
       "2          8              0  Indeterminado         9.0         0.0   \n",
       "\n",
       "   VIV_OCUPA_  TOTAL_VIVI  CANTIDAD_H  VIV_TIPO_C  VIV_TIPO_D  VIV_TIPO_T  \\\n",
       "0        83.0       100.0        83.0         4.0        89.0         0.0   \n",
       "1        20.0        20.0        23.0        20.0         0.0         0.0   \n",
       "2         9.0         9.0        11.0         9.0         0.0         0.0   \n",
       "\n",
       "   VIV_TIPO_P  VIV_TIPO_M  VIV_TIPO_1  VIV_TIPO_O  VIV_PARED_  VIV_PARED1  \\\n",
       "0         7.0         0.0         0.0         0.0        74.0         9.0   \n",
       "1         0.0         0.0         0.0         0.0         2.0        12.0   \n",
       "2         0.0         0.0         0.0         0.0         0.0         9.0   \n",
       "\n",
       "   VIV_PARE_1  VIV_PARE_2  VIV_PARE_3  VIV_PARE_4  VIV_TECHO_  VIV_TECHO1  \\\n",
       "0         0.0         0.0         0.0         0.0        34.0        38.0   \n",
       "1         4.0         2.0         0.0         0.0         5.0         0.0   \n",
       "2         0.0         0.0         0.0         0.0         0.0         0.0   \n",
       "\n",
       "   VIV_TECH_1  VIV_TECH_2  VIV_TECH_3  VIV_TECH_4  VIV_TECH_5  VIV_PISO_P  \\\n",
       "0        11.0         0.0         0.0         0.0         0.0        83.0   \n",
       "1        14.0         1.0         0.0         0.0         0.0        14.0   \n",
       "2         9.0         0.0         0.0         0.0         0.0         9.0   \n",
       "\n",
       "   VIV_PISO_R  VIV_PISO_B  VIV_PISO_C  VIV_PISO_T  VIV_MATERI  VIV_MATE_1  \\\n",
       "0         0.0         0.0         0.0         0.0        83.0         0.0   \n",
       "1         0.0         6.0         0.0         0.0        12.0         8.0   \n",
       "2         0.0         0.0         0.0         0.0         9.0         0.0   \n",
       "\n",
       "   VIV_MATE_2  VIV_AGUA_R  VIV_AGUA_P  VIV_AGUA_C  VIV_AGUA_1  Manzana_ce  \\\n",
       "0         0.0        82.0         0.0         0.0         0.0    0.121693   \n",
       "1         0.0        20.0         0.0         0.0         0.0    0.187500   \n",
       "2         0.0         9.0         0.0         0.0         0.0    0.000000   \n",
       "\n",
       "   Manzana__1  Manzana__2  Manzana__3  centroid_x  centroid_y  \\\n",
       "0    0.126984    0.079365    0.074074  -7864610.0  -3958370.0   \n",
       "1    0.175000  999.000000    0.062500  -7874070.0  -3961680.0   \n",
       "2    0.275862    0.000000  999.000000  -7872570.0  -3961700.0   \n",
       "\n",
       "                      geometry  \n",
       "0  POINT (-70.64899 -33.47385)  \n",
       "1  POINT (-70.73397 -33.49865)  \n",
       "2  POINT (-70.72050 -33.49880)  "
      ]
     },
     "execution_count": 3,
     "metadata": {},
     "output_type": "execute_result"
    }
   ],
   "source": [
    "# Read in the centroids (points) of Santiago blocks as geopandas dataframe\n",
    "santiago_centriods_pts_path = \"../../Air_pollution/02_data/santiago_block_centroids_wgs84.shp\"\n",
    "santiago_centriods_pts = gpd.read_file(santiago_centriods_pts_path)\n",
    "santiago_centriods_pts.head(3)"
   ]
  },
  {
   "cell_type": "code",
   "execution_count": 4,
   "metadata": {
    "ExecuteTime": {
     "end_time": "2023-03-25T00:45:03.018775Z",
     "start_time": "2023-03-25T00:45:02.958338Z"
    }
   },
   "outputs": [],
   "source": [
    "# Collect useful columns: 'TOTAL_PERS', 'geometry'\n",
    "santiago_centriods_pts_df = santiago_centriods_pts[['TOTAL_PERS', 'geometry']]\n",
    "\n",
    "# Get latitude and longitude values for centroids\n",
    "santiago_centriods_pts_df['centroid_lat'] = santiago_centriods_pts_df['geometry'].y\n",
    "santiago_centriods_pts_df['centroid_lon'] = santiago_centriods_pts_df['geometry'].x\n",
    "\n",
    "# Apply minmax scaler to the population column to create a sampling probability field\n",
    "scaler = MinMaxScaler()\n",
    "santiago_centriods_pts_df[['sample_prob_pop']] = scaler.fit_transform(santiago_centriods_pts_df[['TOTAL_PERS']])\n",
    "\n",
    "# Add new index for all centroids\n",
    "santiago_centriods_pts_df['id'] = santiago_centriods_pts_df.index\n",
    "# Shift column 'id' to first position\n",
    "first_column = santiago_centriods_pts_df.pop('id')\n",
    "# Insert column using insert(position, column_name, first_column) function\n",
    "santiago_centriods_pts_df.insert(0, 'id', first_column)"
   ]
  },
  {
   "cell_type": "code",
   "execution_count": 116,
   "metadata": {
    "ExecuteTime": {
     "end_time": "2023-03-31T00:43:34.215347Z",
     "start_time": "2023-03-31T00:43:33.497295Z"
    }
   },
   "outputs": [],
   "source": [
    "# Save santiago_centriods_pts_df\n",
    "santiago_centriods_pts_df.to_csv('../02_data/santiago_centriods_pts_df.csv')"
   ]
  },
  {
   "cell_type": "markdown",
   "metadata": {},
   "source": [
    "Find neartest access node and calculate the distance between the block centroid and the access node"
   ]
  },
  {
   "cell_type": "code",
   "execution_count": 45,
   "metadata": {
    "ExecuteTime": {
     "end_time": "2023-03-30T03:22:16.530843Z",
     "start_time": "2023-03-28T21:39:47.571122Z"
    }
   },
   "outputs": [
    {
     "name": "stderr",
     "output_type": "stream",
     "text": [
      "100%|████████████████████████████████████| 47402/47402 [29:42:28<00:00,  2.26s/it]\n"
     ]
    }
   ],
   "source": [
    "# Find closest access points in the graph/network\n",
    "# and the distance (meters) between the centroids and access points\n",
    "# TAKES LONG TIME TO RUN!\n",
    "id_accessOSMid_distancem = []\n",
    "for row in tqdm(range(santiago_centriods_pts_df.shape[0])):\n",
    "    row_id = row\n",
    "    # Get the lat and lon of block centroids\n",
    "    centroid_lat = santiago_centriods_pts_df.loc[santiago_centriods_pts_df['id']==row_id]['centroid_lat'][row_id]\n",
    "    centroid_lon = santiago_centriods_pts_df.loc[santiago_centriods_pts_df['id']==row_id]['centroid_lon'][row_id]\n",
    "    \n",
    "    # find nearest access point\n",
    "    access_OSMid, distance_m = ox.distance.nearest_nodes(G, centroid_lon, centroid_lat, return_dist=True)\n",
    "    \n",
    "    # Store the node id, OSM id of access point, and distance between access node and block centroid (unit: meters)\n",
    "    id_accessOSMid_distancem.append([row_id, access_OSMid, distance_m])"
   ]
  },
  {
   "cell_type": "code",
   "execution_count": 51,
   "metadata": {
    "ExecuteTime": {
     "end_time": "2023-03-30T20:57:43.413542Z",
     "start_time": "2023-03-30T20:57:43.248107Z"
    }
   },
   "outputs": [],
   "source": [
    "# Create new dataframe for node id, OSM id of access point, and distance between access node and block centroid (unit: meters)\n",
    "id_accessOSMid_distancem_df = pd.DataFrame(id_accessOSMid_distancem)\n",
    "\n",
    "# Rename columns\n",
    "id_accessOSMid_distancem_df = id_accessOSMid_distancem_df.rename(columns={0: 'id', \n",
    "                                            1: 'OSM_id',\n",
    "                                            2: 'distance_m'})\n",
    "# Save as csv\n",
    "id_accessOSMid_distancem_df.to_csv('../02_data/id_accessOSMid_distance_m_df.csv')"
   ]
  },
  {
   "cell_type": "markdown",
   "metadata": {},
   "source": [
    "Let's check the resulting dataframe"
   ]
  },
  {
   "cell_type": "code",
   "execution_count": 52,
   "metadata": {
    "ExecuteTime": {
     "end_time": "2023-03-30T20:57:45.670393Z",
     "start_time": "2023-03-30T20:57:45.663350Z"
    }
   },
   "outputs": [
    {
     "data": {
      "text/html": [
       "<div>\n",
       "<style scoped>\n",
       "    .dataframe tbody tr th:only-of-type {\n",
       "        vertical-align: middle;\n",
       "    }\n",
       "\n",
       "    .dataframe tbody tr th {\n",
       "        vertical-align: top;\n",
       "    }\n",
       "\n",
       "    .dataframe thead th {\n",
       "        text-align: right;\n",
       "    }\n",
       "</style>\n",
       "<table border=\"1\" class=\"dataframe\">\n",
       "  <thead>\n",
       "    <tr style=\"text-align: right;\">\n",
       "      <th></th>\n",
       "      <th>id</th>\n",
       "      <th>OSM_id</th>\n",
       "      <th>distance_m</th>\n",
       "    </tr>\n",
       "  </thead>\n",
       "  <tbody>\n",
       "    <tr>\n",
       "      <th>0</th>\n",
       "      <td>0</td>\n",
       "      <td>9000087782</td>\n",
       "      <td>13.310517</td>\n",
       "    </tr>\n",
       "    <tr>\n",
       "      <th>1</th>\n",
       "      <td>1</td>\n",
       "      <td>9192187479</td>\n",
       "      <td>40.396543</td>\n",
       "    </tr>\n",
       "    <tr>\n",
       "      <th>2</th>\n",
       "      <td>2</td>\n",
       "      <td>1856490959</td>\n",
       "      <td>29.102015</td>\n",
       "    </tr>\n",
       "    <tr>\n",
       "      <th>3</th>\n",
       "      <td>3</td>\n",
       "      <td>9000087770</td>\n",
       "      <td>8.491737</td>\n",
       "    </tr>\n",
       "    <tr>\n",
       "      <th>4</th>\n",
       "      <td>4</td>\n",
       "      <td>1846000011</td>\n",
       "      <td>26.467173</td>\n",
       "    </tr>\n",
       "  </tbody>\n",
       "</table>\n",
       "</div>"
      ],
      "text/plain": [
       "   id      OSM_id  distance_m\n",
       "0   0  9000087782   13.310517\n",
       "1   1  9192187479   40.396543\n",
       "2   2  1856490959   29.102015\n",
       "3   3  9000087770    8.491737\n",
       "4   4  1846000011   26.467173"
      ]
     },
     "execution_count": 52,
     "metadata": {},
     "output_type": "execute_result"
    }
   ],
   "source": [
    "id_accessOSMid_distancem_df.head()"
   ]
  },
  {
   "cell_type": "markdown",
   "metadata": {},
   "source": [
    "## Simulate trips between sampled OD pairs"
   ]
  },
  {
   "cell_type": "markdown",
   "metadata": {},
   "source": [
    "### Prep the graph"
   ]
  },
  {
   "cell_type": "code",
   "execution_count": 3,
   "metadata": {
    "ExecuteTime": {
     "end_time": "2023-03-31T15:28:53.074257Z",
     "start_time": "2023-03-31T15:28:47.347891Z"
    }
   },
   "outputs": [],
   "source": [
    "# Load graph\n",
    "G =  pickle.load(open('../../Air_pollution/02_data/santiago_osmnx_all_private_graph.pk', 'rb'))    "
   ]
  },
  {
   "cell_type": "code",
   "execution_count": 4,
   "metadata": {
    "ExecuteTime": {
     "end_time": "2023-03-31T15:28:53.511736Z",
     "start_time": "2023-03-31T15:28:53.076870Z"
    }
   },
   "outputs": [
    {
     "name": "stdout",
     "output_type": "stream",
     "text": [
      "Graph has 250809 nodes\n",
      "Graph has 653862 edges\n",
      "Node attriutes: ['y', 'x', 'osmid']\n",
      "Edge attributes ['osmid', 'oneway', 'lanes', 'ref', 'name', 'highway', 'maxspeed', 'length']\n"
     ]
    }
   ],
   "source": [
    "# Check graph attributes\n",
    "# Number of nodes and edges\n",
    "print('Graph has', G.number_of_nodes(), 'nodes')\n",
    "print('Graph has', G.number_of_edges(), 'edges')\n",
    "\n",
    "# Node attributes\n",
    "for node_id, node_data in G.nodes.data():\n",
    "    print('Node attriutes:', list(node_data.keys()))\n",
    "    break\n",
    "\n",
    "# Edge attributes\n",
    "for from_node_id, to_node_id, edge_data in G.edges.data():\n",
    "    print('Edge attributes', list(edge_data.keys()))\n",
    "    break"
   ]
  },
  {
   "cell_type": "markdown",
   "metadata": {},
   "source": [
    "### Add travel speed and travel time on edges"
   ]
  },
  {
   "cell_type": "code",
   "execution_count": 5,
   "metadata": {
    "ExecuteTime": {
     "end_time": "2023-03-31T15:29:32.903566Z",
     "start_time": "2023-03-31T15:28:54.713215Z"
    }
   },
   "outputs": [],
   "source": [
    "# Add travel speed\n",
    "G_speed = ox.speed.add_edge_speeds(G)\n",
    "\n",
    "# Add travel time, then\n",
    "G_speed_time = ox.speed.add_edge_travel_times(G_speed)"
   ]
  },
  {
   "cell_type": "code",
   "execution_count": 62,
   "metadata": {
    "ExecuteTime": {
     "end_time": "2023-03-31T19:34:20.085264Z",
     "start_time": "2023-03-31T19:34:14.826658Z"
    }
   },
   "outputs": [],
   "source": [
    "# Save graph file with speed and time added as .pk\n",
    "with open('../../Air_pollution/02_data/santiago_osmnx_all_private_graph_speed_time.pk', 'wb') as handle:\n",
    "    pickle.dump(G_speed_time, handle, protocol=2)"
   ]
  },
  {
   "cell_type": "markdown",
   "metadata": {
    "ExecuteTime": {
     "end_time": "2023-03-30T22:37:55.791475Z",
     "start_time": "2023-03-30T22:37:45.187320Z"
    }
   },
   "source": [
    "Let's take a look at one of the edges"
   ]
  },
  {
   "cell_type": "code",
   "execution_count": 6,
   "metadata": {
    "ExecuteTime": {
     "end_time": "2023-03-31T15:29:32.911426Z",
     "start_time": "2023-03-31T15:29:32.906903Z"
    }
   },
   "outputs": [
    {
     "name": "stdout",
     "output_type": "stream",
     "text": [
      "Edge attributes {'osmid': 272430239, 'oneway': True, 'lanes': '3', 'ref': '76', 'name': 'Camino a Melipilla', 'highway': 'primary', 'maxspeed': '60', 'length': 28.557, 'speed_kph': 60.0, 'travel_time': 1.7}\n"
     ]
    }
   ],
   "source": [
    "# Check edge attributes\n",
    "# Units for key attributes\n",
    "# \"maxspeed\"   : kilometers per hour\n",
    "# \"length\"     : meters\n",
    "# \"speed_kph\"  : kilometers per hour\n",
    "# \"travel_time\": seconds\n",
    "for from_node_id, to_node_id, edge_data in G_speed_time.edges.data():\n",
    "    print('Edge attributes', edge_data)\n",
    "    break"
   ]
  },
  {
   "cell_type": "markdown",
   "metadata": {},
   "source": [
    "### Prepare sampling dataframe"
   ]
  },
  {
   "cell_type": "code",
   "execution_count": 7,
   "metadata": {
    "ExecuteTime": {
     "end_time": "2023-03-31T15:29:33.444239Z",
     "start_time": "2023-03-31T15:29:32.915139Z"
    }
   },
   "outputs": [
    {
     "data": {
      "text/html": [
       "<div>\n",
       "<style scoped>\n",
       "    .dataframe tbody tr th:only-of-type {\n",
       "        vertical-align: middle;\n",
       "    }\n",
       "\n",
       "    .dataframe tbody tr th {\n",
       "        vertical-align: top;\n",
       "    }\n",
       "\n",
       "    .dataframe thead th {\n",
       "        text-align: right;\n",
       "    }\n",
       "</style>\n",
       "<table border=\"1\" class=\"dataframe\">\n",
       "  <thead>\n",
       "    <tr style=\"text-align: right;\">\n",
       "      <th></th>\n",
       "      <th>id</th>\n",
       "      <th>TOTAL_PERS</th>\n",
       "      <th>geometry</th>\n",
       "      <th>centroid_lat</th>\n",
       "      <th>centroid_lon</th>\n",
       "      <th>sample_prob_pop</th>\n",
       "      <th>OSM_id</th>\n",
       "      <th>distance_m</th>\n",
       "    </tr>\n",
       "  </thead>\n",
       "  <tbody>\n",
       "    <tr>\n",
       "      <th>0</th>\n",
       "      <td>0</td>\n",
       "      <td>189.0</td>\n",
       "      <td>POINT (-70.64899366639229 -33.4738510993451)</td>\n",
       "      <td>-33.473851</td>\n",
       "      <td>-70.648994</td>\n",
       "      <td>0.020550</td>\n",
       "      <td>9000087782</td>\n",
       "      <td>13.310517</td>\n",
       "    </tr>\n",
       "    <tr>\n",
       "      <th>1</th>\n",
       "      <td>1</td>\n",
       "      <td>80.0</td>\n",
       "      <td>POINT (-70.73397429227 -33.49864999432129)</td>\n",
       "      <td>-33.498650</td>\n",
       "      <td>-70.733974</td>\n",
       "      <td>0.008698</td>\n",
       "      <td>9192187479</td>\n",
       "      <td>40.396543</td>\n",
       "    </tr>\n",
       "    <tr>\n",
       "      <th>2</th>\n",
       "      <td>2</td>\n",
       "      <td>29.0</td>\n",
       "      <td>POINT (-70.7204995630082 -33.49879981500392)</td>\n",
       "      <td>-33.498800</td>\n",
       "      <td>-70.720500</td>\n",
       "      <td>0.003153</td>\n",
       "      <td>1856490959</td>\n",
       "      <td>29.102015</td>\n",
       "    </tr>\n",
       "    <tr>\n",
       "      <th>3</th>\n",
       "      <td>3</td>\n",
       "      <td>146.0</td>\n",
       "      <td>POINT (-70.64971231861959 -33.4738510993451)</td>\n",
       "      <td>-33.473851</td>\n",
       "      <td>-70.649712</td>\n",
       "      <td>0.015875</td>\n",
       "      <td>9000087770</td>\n",
       "      <td>8.491737</td>\n",
       "    </tr>\n",
       "    <tr>\n",
       "      <th>4</th>\n",
       "      <td>4</td>\n",
       "      <td>74.0</td>\n",
       "      <td>POINT (-70.71582832353079 -33.499099455591306)</td>\n",
       "      <td>-33.499099</td>\n",
       "      <td>-70.715828</td>\n",
       "      <td>0.008046</td>\n",
       "      <td>1846000011</td>\n",
       "      <td>26.467173</td>\n",
       "    </tr>\n",
       "  </tbody>\n",
       "</table>\n",
       "</div>"
      ],
      "text/plain": [
       "   id  TOTAL_PERS                                        geometry  \\\n",
       "0   0       189.0    POINT (-70.64899366639229 -33.4738510993451)   \n",
       "1   1        80.0      POINT (-70.73397429227 -33.49864999432129)   \n",
       "2   2        29.0    POINT (-70.7204995630082 -33.49879981500392)   \n",
       "3   3       146.0    POINT (-70.64971231861959 -33.4738510993451)   \n",
       "4   4        74.0  POINT (-70.71582832353079 -33.499099455591306)   \n",
       "\n",
       "   centroid_lat  centroid_lon  sample_prob_pop      OSM_id  distance_m  \n",
       "0    -33.473851    -70.648994         0.020550  9000087782   13.310517  \n",
       "1    -33.498650    -70.733974         0.008698  9192187479   40.396543  \n",
       "2    -33.498800    -70.720500         0.003153  1856490959   29.102015  \n",
       "3    -33.473851    -70.649712         0.015875  9000087770    8.491737  \n",
       "4    -33.499099    -70.715828         0.008046  1846000011   26.467173  "
      ]
     },
     "execution_count": 7,
     "metadata": {},
     "output_type": "execute_result"
    }
   ],
   "source": [
    "# Read access point dataframe\n",
    "# Columns: id, access point OSM id, distance between access point and block centroid\n",
    "id_accessOSMid_distancem_df = pd.read_csv('../02_data/id_accessOSMid_distance_m_df.csv', index_col=0)\n",
    "\n",
    "# Read block centroids and sampling probability dataframe\n",
    "# Columns: id, total population, geometry, centroid lat, centroid lon, sample probability (based on population)\n",
    "santiago_centroids_pts_df = pd.read_csv('../02_data/santiago_centriods_pts_df.csv', index_col=0)\n",
    "\n",
    "# Join block centroid sampling dataframe and access point dataframe\n",
    "santiago_centroid_access_pt_sampling_df = pd.merge(santiago_centroids_pts_df, id_accessOSMid_distancem_df,\n",
    "                                          left_on='id', right_on='id')\n",
    "# Save as csv\n",
    "santiago_centroid_access_pt_sampling_df.to_csv('../02_data/santiago_centroid_access_pt_sampling_df.csv')\n",
    "santiago_centroid_access_pt_sampling_df.head()"
   ]
  },
  {
   "cell_type": "markdown",
   "metadata": {},
   "source": [
    "### Run"
   ]
  },
  {
   "cell_type": "code",
   "execution_count": 8,
   "metadata": {
    "ExecuteTime": {
     "end_time": "2023-03-31T17:31:51.632680Z",
     "start_time": "2023-03-31T15:44:15.644640Z"
    }
   },
   "outputs": [
    {
     "name": "stderr",
     "output_type": "stream",
     "text": [
      "while loop: 50025003it [1:47:35, 14087.31it/s]                                  "
     ]
    }
   ],
   "source": [
    "try:\n",
    "    # Load sampling dataframe\n",
    "    santiago_centroid_access_pt_sampling_df = pd.read_csv('../02_data/santiago_centroid_access_pt_sampling_df.csv',\n",
    "                                                          index_col=0)\n",
    "    # Make a copy of the sampling dataframe, give it a short name because you will use it a lot afterwards\n",
    "    sample_df = santiago_centroid_access_pt_sampling_df\n",
    "    \n",
    "    # List of centroid ids (used for sampling)\n",
    "    pt_id_lst = list(santiago_centroid_access_pt_sampling_df['id'])\n",
    "    \n",
    "    # List of sampling probabilities\n",
    "    pt_prob_lst = list(santiago_centroid_access_pt_sampling_df['sample_prob_pop'])\n",
    "    \n",
    "    # Initiate dataframe to store simulation results\n",
    "    OD_df = pd.DataFrame(columns=['index',\n",
    "                                  'sample_centroid_O_id',\n",
    "                                  'sample_centroid_D_id',\n",
    "                                  'sample_centroid_O_lat',\n",
    "                                  'sample_centroid_O_lon',\n",
    "                                  'sample_centroid_D_lat',\n",
    "                                  'sample_centroid_D_lon',\n",
    "                                  'O_access_pt_OSMid',\n",
    "                                  'D_access_pt_OSMid',\n",
    "                                  'O_distance_gap',\n",
    "                                  'D_distance_gap',\n",
    "                                  'OD_route',\n",
    "                                  'OD_route_length_m',\n",
    "                                  'OD_route_time_s'])\n",
    "    \n",
    "    # Initiate simulation parameters\n",
    "    index = 0 # index for simulation run\n",
    "    epsilon = float('inf') # stopping threshold: difference between current mean travel time and the mean travel time from the previou time steps\n",
    "    simulation_count = 0 # simulation step\n",
    "    simulation_threshold = 10000 # threshold to stop simulation\n",
    "    travel_time_lst = [] # list of travel times to calculate the mean travel time dynamically\n",
    "    \n",
    "    # progress bar\n",
    "    pbar = tqdm(desc='while loop', total =simulation_threshold)\n",
    "    \n",
    "    # Travel simultion\n",
    "    while epsilon > 0.01 or simulation_count <= simulation_threshold: # stop when epsilon is smaller than threshold or simulation step reaches 10k\n",
    "\n",
    "        #Sample a point based on probability\n",
    "        sample_O_pt = random.choices(pt_id_lst, pt_prob_lst)[0]\n",
    "        sample_D_pt = random.choices(pt_id_lst, pt_prob_lst)[0]\n",
    "        \n",
    "        # Origin cannot be the same as destination point\n",
    "        while sample_O_pt == sample_D_pt:\n",
    "            sample_D_pt = random.choices(pt_id_lst, pt_prob_lst)[0]\n",
    "\n",
    "        # O\n",
    "        sample_O_lat = sample_df.loc[sample_df['id'] == sample_O_pt, 'centroid_lat'].iloc[0]\n",
    "        sample_O_lon = sample_df.loc[sample_df['id'] == sample_O_pt, 'centroid_lon'].iloc[0]\n",
    "        # D\n",
    "        sample_D_lat = sample_df.loc[sample_df['id'] == sample_D_pt, 'centroid_lat'].iloc[0]\n",
    "        sample_D_lon = sample_df.loc[sample_df['id'] == sample_D_pt, 'centroid_lon'].iloc[0]\n",
    "        \n",
    "        # OSM id of access point\n",
    "        O_access_pt_OSMid = sample_df.loc[sample_df['id'] == sample_O_pt, 'OSM_id'].iloc[0]\n",
    "        D_access_pt_OSMid = sample_df.loc[sample_df['id'] == sample_D_pt, 'OSM_id'].iloc[0]\n",
    "        \n",
    "        # Gap distance\n",
    "        O_distance_gap = sample_df.loc[sample_df['id'] == sample_O_pt, 'distance_m'].iloc[0]\n",
    "        D_distance_gap = sample_df.loc[sample_df['id'] == sample_D_pt, 'distance_m'].iloc[0]\n",
    "\n",
    "        # Routing, minimizing travel time\n",
    "        try:\n",
    "            OD_route = nx.shortest_path(G_speed_time, O_access_pt_OSMid, D_access_pt_OSMid, weight='travel_time')\n",
    "        except:\n",
    "            continue\n",
    "        \n",
    "        # length of the simulated route\n",
    "        OD_route_length = sum(ox.utils_graph.get_route_edge_attributes(G_speed_time, OD_route, 'length')) # meters\n",
    "        # travel time of the simulated route\n",
    "        OD_route_time =sum(ox.utils_graph.get_route_edge_attributes(G_speed_time, OD_route, 'travel_time')) # seconds\n",
    "\n",
    "        # Append simulation results to dataframe\n",
    "        OD_df = OD_df.append({'index' : index,\n",
    "                              'sample_centroid_O_id' : sample_O_pt,\n",
    "                              'sample_centroid_D_id' : sample_D_pt,\n",
    "                              'sample_centroid_O_lat': sample_O_lat,\n",
    "                              'sample_centroid_O_lon': sample_O_lon,\n",
    "                              'sample_centroid_D_lat': sample_D_lat,\n",
    "                              'sample_centroid_D_lon': sample_D_lon,\n",
    "                              'O_access_pt_OSMid'    : O_access_pt_OSMid,\n",
    "                              'D_access_pt_OSMid'    : O_access_pt_OSMid,\n",
    "                              'O_distance_gap'       : O_distance_gap,\n",
    "                              'D_distance_gap'       : D_distance_gap,\n",
    "                              'OD_route'             : OD_route,\n",
    "                              'OD_route_length_m'    : OD_route_length,\n",
    "                              'OD_route_time_s'      : OD_route_time\n",
    "                             },\n",
    "        ignore_index = True)\n",
    "\n",
    "        travel_time_lst.append(OD_route_time)\n",
    "        \n",
    "        # Calcualte epsilon at the current simulation step\n",
    "        if len(travel_time_lst) == 1:\n",
    "            epsilon = float('inf')\n",
    "        else:\n",
    "            epsilon = abs(np.mean(travel_time_lst) - np.mean(travel_time_lst[:-1]))\n",
    "\n",
    "        index += 1\n",
    "        simulation_count += 1\n",
    "        \n",
    "        # Update progress bar\n",
    "        pbar.update(simulation_count)\n",
    "    \n",
    "except:\n",
    "    print(simulation_count)"
   ]
  },
  {
   "cell_type": "code",
   "execution_count": 9,
   "metadata": {
    "ExecuteTime": {
     "end_time": "2023-03-31T17:31:52.324033Z",
     "start_time": "2023-03-31T17:31:51.635240Z"
    }
   },
   "outputs": [],
   "source": [
    "OD_df.to_csv('../02_data/OD_df.csv')"
   ]
  },
  {
   "cell_type": "markdown",
   "metadata": {},
   "source": [
    "Check the resulting dataframe"
   ]
  },
  {
   "cell_type": "code",
   "execution_count": 12,
   "metadata": {
    "ExecuteTime": {
     "end_time": "2023-03-31T17:47:55.666203Z",
     "start_time": "2023-03-31T17:47:55.652131Z"
    }
   },
   "outputs": [
    {
     "data": {
      "text/html": [
       "<div>\n",
       "<style scoped>\n",
       "    .dataframe tbody tr th:only-of-type {\n",
       "        vertical-align: middle;\n",
       "    }\n",
       "\n",
       "    .dataframe tbody tr th {\n",
       "        vertical-align: top;\n",
       "    }\n",
       "\n",
       "    .dataframe thead th {\n",
       "        text-align: right;\n",
       "    }\n",
       "</style>\n",
       "<table border=\"1\" class=\"dataframe\">\n",
       "  <thead>\n",
       "    <tr style=\"text-align: right;\">\n",
       "      <th></th>\n",
       "      <th>index</th>\n",
       "      <th>sample_centroid_O_id</th>\n",
       "      <th>sample_centroid_D_id</th>\n",
       "      <th>sample_centroid_O_lat</th>\n",
       "      <th>sample_centroid_O_lon</th>\n",
       "      <th>sample_centroid_D_lat</th>\n",
       "      <th>sample_centroid_D_lon</th>\n",
       "      <th>O_access_pt_OSMid</th>\n",
       "      <th>D_access_pt_OSMid</th>\n",
       "      <th>O_distance_gap</th>\n",
       "      <th>D_distance_gap</th>\n",
       "      <th>OD_route</th>\n",
       "      <th>OD_route_length_m</th>\n",
       "      <th>OD_route_time_s</th>\n",
       "    </tr>\n",
       "  </thead>\n",
       "  <tbody>\n",
       "    <tr>\n",
       "      <th>0</th>\n",
       "      <td>0</td>\n",
       "      <td>33419</td>\n",
       "      <td>4038</td>\n",
       "      <td>-33.387112</td>\n",
       "      <td>-70.555210</td>\n",
       "      <td>-33.460287</td>\n",
       "      <td>-70.702623</td>\n",
       "      <td>10575639764</td>\n",
       "      <td>10575639764</td>\n",
       "      <td>73.667341</td>\n",
       "      <td>37.587949</td>\n",
       "      <td>[10575639764, 267181992, 267181971, 267181923,...</td>\n",
       "      <td>18458.726</td>\n",
       "      <td>1113.6</td>\n",
       "    </tr>\n",
       "    <tr>\n",
       "      <th>1</th>\n",
       "      <td>1</td>\n",
       "      <td>33162</td>\n",
       "      <td>9097</td>\n",
       "      <td>-33.373309</td>\n",
       "      <td>-70.574254</td>\n",
       "      <td>-33.544258</td>\n",
       "      <td>-70.608300</td>\n",
       "      <td>264179205</td>\n",
       "      <td>264179205</td>\n",
       "      <td>102.230397</td>\n",
       "      <td>76.199720</td>\n",
       "      <td>[264179205, 264179000, 264179033, 264179045, 2...</td>\n",
       "      <td>21569.279</td>\n",
       "      <td>1187.3</td>\n",
       "    </tr>\n",
       "    <tr>\n",
       "      <th>2</th>\n",
       "      <td>2</td>\n",
       "      <td>29320</td>\n",
       "      <td>24068</td>\n",
       "      <td>-33.364232</td>\n",
       "      <td>-70.738286</td>\n",
       "      <td>-33.451144</td>\n",
       "      <td>-70.608480</td>\n",
       "      <td>2845956108</td>\n",
       "      <td>2845956108</td>\n",
       "      <td>16.145202</td>\n",
       "      <td>38.214329</td>\n",
       "      <td>[2845956108, 2845956107, 1744679070, 267449268...</td>\n",
       "      <td>20224.922</td>\n",
       "      <td>997.6</td>\n",
       "    </tr>\n",
       "  </tbody>\n",
       "</table>\n",
       "</div>"
      ],
      "text/plain": [
       "  index sample_centroid_O_id sample_centroid_D_id  sample_centroid_O_lat  \\\n",
       "0     0                33419                 4038             -33.387112   \n",
       "1     1                33162                 9097             -33.373309   \n",
       "2     2                29320                24068             -33.364232   \n",
       "\n",
       "   sample_centroid_O_lon  sample_centroid_D_lat  sample_centroid_D_lon  \\\n",
       "0             -70.555210             -33.460287             -70.702623   \n",
       "1             -70.574254             -33.544258             -70.608300   \n",
       "2             -70.738286             -33.451144             -70.608480   \n",
       "\n",
       "  O_access_pt_OSMid D_access_pt_OSMid  O_distance_gap  D_distance_gap  \\\n",
       "0       10575639764       10575639764       73.667341       37.587949   \n",
       "1         264179205         264179205      102.230397       76.199720   \n",
       "2        2845956108        2845956108       16.145202       38.214329   \n",
       "\n",
       "                                            OD_route  OD_route_length_m  \\\n",
       "0  [10575639764, 267181992, 267181971, 267181923,...          18458.726   \n",
       "1  [264179205, 264179000, 264179033, 264179045, 2...          21569.279   \n",
       "2  [2845956108, 2845956107, 1744679070, 267449268...          20224.922   \n",
       "\n",
       "   OD_route_time_s  \n",
       "0           1113.6  \n",
       "1           1187.3  \n",
       "2            997.6  "
      ]
     },
     "execution_count": 12,
     "metadata": {},
     "output_type": "execute_result"
    }
   ],
   "source": [
    "OD_df.head(3)"
   ]
  },
  {
   "cell_type": "markdown",
   "metadata": {},
   "source": [
    "# Travel frequency on road segments"
   ]
  },
  {
   "cell_type": "markdown",
   "metadata": {},
   "source": [
    "## Preparation"
   ]
  },
  {
   "cell_type": "code",
   "execution_count": null,
   "metadata": {},
   "outputs": [],
   "source": [
    "# Load graph\n",
    "G_speed_time =  pickle.load(open('../../Air_pollution/02_data/santiago_osmnx_all_private_graph_speed_time.pk', 'rb'))    "
   ]
  },
  {
   "cell_type": "markdown",
   "metadata": {},
   "source": [
    "## Assign travel frequency"
   ]
  },
  {
   "cell_type": "code",
   "execution_count": 106,
   "metadata": {
    "ExecuteTime": {
     "end_time": "2023-03-31T20:47:05.811741Z",
     "start_time": "2023-03-31T20:46:57.044698Z"
    }
   },
   "outputs": [],
   "source": [
    "# Read in OD simulation dataframe\n",
    "OD_df = pd.read_csv('../02_data/OD_df.csv', index_col=0)\n",
    "\n",
    "### Summarize node frequency\n",
    "# Create new column that transform the OD route in txt format to list\n",
    "OD_df['OD_route_lst'] = OD_df.apply(lambda row: [int(s) for s in row['OD_route'][1:-1].split(', ') if s.isdigit()],\n",
    "                                       axis=1)\n",
    "\n",
    "# List of all nodes in the travel paths\n",
    "nodes_all_lst = list(OD_df['OD_route_lst'].explode())\n",
    "\n",
    "# Dictionary of node and node frequencies\n",
    "nodes_freq_dict = dict(Counter(nodes_all_lst))\n",
    "\n",
    "### Add travel frequencies to nodes in the graph\n",
    "# Initiate all node travel frequencies to 0\n",
    "for node_id, node_data in  G_speed_time.nodes.data():\n",
    "    G_speed_time.nodes[node_id]['travel_freq'] = 0\n",
    "\n",
    "# Update node frequency values\n",
    "for key in nodes_freq_dict.keys():\n",
    "     G_speed_time.nodes[key]['travel_freq'] = nodes_freq_dict[key]\n",
    "    \n",
    "# Add travel frequency to edges in the graph\n",
    "# Logically, the travel frequency on the edge should be the minimum of the visitation frequency on the start or end nodes\n",
    "for node_i, node_j, edge_data in G_speed_time.edges.data():\n",
    "    node_i_freq = G_speed_time.nodes[node_i]['travel_freq']\n",
    "    node_j_freq = G_speed_time.nodes[node_j]['travel_freq']\n",
    "    G_speed_time[node_i][node_j][0]['travel_freq'] = min(node_i_freq, node_j_freq)\n",
    "\n",
    "### Add normalized travel frequency to network edges\n",
    "# Minimum and maximum travel frequencies:\n",
    "freq_min = min(nodes_freq_dict.values())\n",
    "freq_max = max(nodes_freq_dict.values())\n",
    "freq_range = freq_max - freq_min # range\n",
    "\n",
    "# Use a min-max scaler to normalize the travel frequency\n",
    "for node_i, node_j, edge_data in G_speed_time.edges.data():\n",
    "    # get original travel frequency\n",
    "    ori_edge_freq = G_speed_time[node_i][node_j][0]['travel_freq']\n",
    "    # apply min max scaler\n",
    "    G_speed_time[node_i][node_j][0]['travel_freq_normalized'] = (ori_edge_freq - freq_min)/freq_range\n",
    "\n",
    "# Save graph file with travel frequencies added as .pk\n",
    "with open('../../Air_pollution/02_data/santiago_osmnx_all_private_graph_speed_time_travel_freq.pk', 'wb') as handle:\n",
    "    pickle.dump(G_speed_time, handle, protocol=2)"
   ]
  },
  {
   "cell_type": "markdown",
   "metadata": {},
   "source": [
    "Let's take a look at one edge in the final graph. Notice that 'travel_freq', and 'travel_freq_normalized' is added."
   ]
  },
  {
   "cell_type": "code",
   "execution_count": 108,
   "metadata": {
    "ExecuteTime": {
     "end_time": "2023-03-31T20:47:09.452595Z",
     "start_time": "2023-03-31T20:47:09.449886Z"
    }
   },
   "outputs": [
    {
     "name": "stdout",
     "output_type": "stream",
     "text": [
      "14804973 6258882865 {'osmid': 272430239, 'oneway': True, 'lanes': '3', 'ref': '76', 'name': 'Camino a Melipilla', 'highway': 'primary', 'maxspeed': '60', 'length': 28.557, 'speed_kph': 60.0, 'travel_time': 1.7, 'travel_freq': 146, 'travel_freq_normalized': 0.1320582877959927}\n"
     ]
    }
   ],
   "source": [
    "for node_i, node_j, edge_data in G_speed_time.edges.data():\n",
    "    print(node_i, node_j, edge_data)\n",
    "    break"
   ]
  },
  {
   "cell_type": "code",
   "execution_count": null,
   "metadata": {},
   "outputs": [],
   "source": []
  }
 ],
 "metadata": {
  "kernelspec": {
   "display_name": "wb3",
   "language": "python",
   "name": "wb3"
  },
  "language_info": {
   "codemirror_mode": {
    "name": "ipython",
    "version": 3
   },
   "file_extension": ".py",
   "mimetype": "text/x-python",
   "name": "python",
   "nbconvert_exporter": "python",
   "pygments_lexer": "ipython3",
   "version": "3.9.16"
  },
  "toc": {
   "base_numbering": 1,
   "nav_menu": {},
   "number_sections": true,
   "sideBar": true,
   "skip_h1_title": false,
   "title_cell": "Table of Contents",
   "title_sidebar": "Contents",
   "toc_cell": true,
   "toc_position": {
    "height": "calc(100% - 180px)",
    "left": "10px",
    "top": "150px",
    "width": "384px"
   },
   "toc_section_display": true,
   "toc_window_display": true
  }
 },
 "nbformat": 4,
 "nbformat_minor": 4
}

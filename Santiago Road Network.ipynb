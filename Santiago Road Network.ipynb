{
 "cells": [
  {
   "cell_type": "markdown",
   "metadata": {
    "toc": true
   },
   "source": [
    "<h1>Table of Contents<span class=\"tocSkip\"></span></h1>\n",
    "<div class=\"toc\"><ul class=\"toc-item\"><li><span><a href=\"#Libraries\" data-toc-modified-id=\"Libraries-1\"><span class=\"toc-item-num\">1&nbsp;&nbsp;</span>Libraries</a></span></li><li><span><a href=\"#Build-road-network-model\" data-toc-modified-id=\"Build-road-network-model-2\"><span class=\"toc-item-num\">2&nbsp;&nbsp;</span>Build road network model</a></span></li><li><span><a href=\"#Sample-origin-locations-based-on-population-density\" data-toc-modified-id=\"Sample-origin-locations-based-on-population-density-3\"><span class=\"toc-item-num\">3&nbsp;&nbsp;</span>Sample origin locations based on population density</a></span><ul class=\"toc-item\"><li><span><a href=\"#Based-on-population-density\" data-toc-modified-id=\"Based-on-population-density-3.1\"><span class=\"toc-item-num\">3.1&nbsp;&nbsp;</span>Based on population density</a></span></li></ul></li></ul></div>"
   ]
  },
  {
   "cell_type": "markdown",
   "metadata": {},
   "source": [
    "# Libraries"
   ]
  },
  {
   "cell_type": "code",
   "execution_count": 13,
   "metadata": {
    "ExecuteTime": {
     "end_time": "2023-03-23T00:05:35.560029Z",
     "start_time": "2023-03-23T00:05:35.556672Z"
    }
   },
   "outputs": [],
   "source": [
    "import os\n",
    "import sys\n",
    "import networkx as nx\n",
    "import osmnx as ox\n",
    "import numpy as np\n",
    "import geopandas as gpd\n",
    "import matplotlib.pyplot as plt\n",
    "import pandas as pd\n",
    "import pickle\n",
    "from sklearn.preprocessing import MinMaxScaler\n",
    "\n",
    "import warnings; warnings.simplefilter('ignore')\n",
    "\n",
    "pd.options.display.max_columns = None\n",
    "pd.options.display.max_rows = 15"
   ]
  },
  {
   "cell_type": "markdown",
   "metadata": {},
   "source": [
    "# Build road network model"
   ]
  },
  {
   "cell_type": "code",
   "execution_count": 3,
   "metadata": {
    "ExecuteTime": {
     "end_time": "2023-03-22T22:22:18.828439Z",
     "start_time": "2023-03-22T22:22:18.733021Z"
    }
   },
   "outputs": [],
   "source": [
    "# Specify file path of the Santiago convex hull\n",
    "santiago_convexhull_path = '../../Air_pollution/02_data/santiago_pop_convex_hull.shp'\n",
    "\n",
    "# Get graph (drive + service roads) from OSM\n",
    "# define coordinate system as EPSG: 4326, WGS84 - World Geodetic System 1984, used in GPS\n",
    "crs_lonlat = {'init': 'epsg:' + str(4326)}\n",
    "\n",
    "# Read convex hull boundary file\n",
    "bnd = gpd.read_file(santiago_convexhull_path).to_crs(crs_lonlat)"
   ]
  },
  {
   "cell_type": "markdown",
   "metadata": {},
   "source": [
    "Simple plot of the boundary"
   ]
  },
  {
   "cell_type": "code",
   "execution_count": 4,
   "metadata": {
    "ExecuteTime": {
     "end_time": "2023-03-22T22:22:20.534043Z",
     "start_time": "2023-03-22T22:22:20.380682Z"
    }
   },
   "outputs": [
    {
     "data": {
      "text/plain": [
       "<AxesSubplot:>"
      ]
     },
     "execution_count": 4,
     "metadata": {},
     "output_type": "execute_result"
    },
    {
     "data": {
      "image/png": "[encoded data removed]",
      "text/plain": [
       "<Figure size 432x288 with 1 Axes>"
      ]
     },
     "metadata": {
      "needs_background": "light"
     },
     "output_type": "display_data"
    }
   ],
   "source": [
    "bnd.plot()"
   ]
  },
  {
   "cell_type": "markdown",
   "metadata": {},
   "source": [
    "Extracting network from OSM database using OSMnx"
   ]
  },
  {
   "cell_type": "code",
   "execution_count": 5,
   "metadata": {
    "ExecuteTime": {
     "end_time": "2023-03-22T22:30:32.474156Z",
     "start_time": "2023-03-22T22:22:31.268990Z"
    }
   },
   "outputs": [],
   "source": [
    "# Create graph using OSMnx, extracting all available road networks\n",
    "###\n",
    "# method: osmnx.graph_from_polygon(.shp, network_type, etc.)\n",
    "# ‘drive’         – get drivable public streets (but not service roads)\n",
    "# ‘drive_service’ – get drivable public streets, including service roads\n",
    "# ‘walk’          – get all streets and paths that pedestrians can use (this network type ignores one-way directionality)\n",
    "# ‘bike’         – get all streets and paths that cyclists can use\n",
    "# ‘all’          – download all (non-private) OSM streets and paths\n",
    "# ‘all_private’  – download all OSM streets and paths, including private-access ones\n",
    "###\n",
    "G = ox.graph_from_polygon(bnd.geometry[0], network_type='all_private')"
   ]
  },
  {
   "cell_type": "code",
   "execution_count": 6,
   "metadata": {
    "ExecuteTime": {
     "end_time": "2023-03-22T22:34:36.256625Z",
     "start_time": "2023-03-22T22:34:30.974559Z"
    }
   },
   "outputs": [],
   "source": [
    "# Save graph file as .pk\n",
    "with open('../../Air_pollution/02_data/santiago_osmnx_all_private_graph.pk', 'wb') as handle:\n",
    "    pickle.dump(G, handle, protocol=2)"
   ]
  },
  {
   "cell_type": "code",
   "execution_count": 8,
   "metadata": {
    "ExecuteTime": {
     "end_time": "2023-03-22T22:40:21.846966Z",
     "start_time": "2023-03-22T22:35:25.894700Z"
    }
   },
   "outputs": [],
   "source": [
    "# Save as shapefile\n",
    "G_shp_out_dir = '../../Air_pollution/02_data/'\n",
    "ox.io.save_graph_shapefile(G, filepath=G_shp_out_dir)"
   ]
  },
  {
   "cell_type": "markdown",
   "metadata": {},
   "source": [
    "# Sample origin locations based on population density"
   ]
  },
  {
   "cell_type": "code",
   "execution_count": 14,
   "metadata": {
    "ExecuteTime": {
     "end_time": "2023-03-23T00:13:07.980069Z",
     "start_time": "2023-03-23T00:13:07.525080Z"
    }
   },
   "outputs": [
    {
     "data": {
      "text/html": [
       "<div>\n",
       "<style scoped>\n",
       "    .dataframe tbody tr th:only-of-type {\n",
       "        vertical-align: middle;\n",
       "    }\n",
       "\n",
       "    .dataframe tbody tr th {\n",
       "        vertical-align: top;\n",
       "    }\n",
       "\n",
       "    .dataframe thead th {\n",
       "        text-align: right;\n",
       "    }\n",
       "</style>\n",
       "<table border=\"1\" class=\"dataframe\">\n",
       "  <thead>\n",
       "    <tr style=\"text-align: right;\">\n",
       "      <th></th>\n",
       "      <th>FID</th>\n",
       "      <th>TOTAL_PERS</th>\n",
       "      <th>centroid_x</th>\n",
       "      <th>centroid_y</th>\n",
       "      <th>sample_prob_pop</th>\n",
       "    </tr>\n",
       "  </thead>\n",
       "  <tbody>\n",
       "    <tr>\n",
       "      <th>0</th>\n",
       "      <td>0</td>\n",
       "      <td>189.0</td>\n",
       "      <td>-7864610.0</td>\n",
       "      <td>-3958370.0</td>\n",
       "      <td>0.020550</td>\n",
       "    </tr>\n",
       "    <tr>\n",
       "      <th>1</th>\n",
       "      <td>1</td>\n",
       "      <td>80.0</td>\n",
       "      <td>-7874070.0</td>\n",
       "      <td>-3961680.0</td>\n",
       "      <td>0.008698</td>\n",
       "    </tr>\n",
       "    <tr>\n",
       "      <th>2</th>\n",
       "      <td>2</td>\n",
       "      <td>29.0</td>\n",
       "      <td>-7872570.0</td>\n",
       "      <td>-3961700.0</td>\n",
       "      <td>0.003153</td>\n",
       "    </tr>\n",
       "    <tr>\n",
       "      <th>3</th>\n",
       "      <td>3</td>\n",
       "      <td>146.0</td>\n",
       "      <td>-7864690.0</td>\n",
       "      <td>-3958370.0</td>\n",
       "      <td>0.015875</td>\n",
       "    </tr>\n",
       "    <tr>\n",
       "      <th>4</th>\n",
       "      <td>4</td>\n",
       "      <td>74.0</td>\n",
       "      <td>-7872050.0</td>\n",
       "      <td>-3961740.0</td>\n",
       "      <td>0.008046</td>\n",
       "    </tr>\n",
       "  </tbody>\n",
       "</table>\n",
       "</div>"
      ],
      "text/plain": [
       "   FID  TOTAL_PERS  centroid_x  centroid_y  sample_prob_pop\n",
       "0    0       189.0  -7864610.0  -3958370.0         0.020550\n",
       "1    1        80.0  -7874070.0  -3961680.0         0.008698\n",
       "2    2        29.0  -7872570.0  -3961700.0         0.003153\n",
       "3    3       146.0  -7864690.0  -3958370.0         0.015875\n",
       "4    4        74.0  -7872050.0  -3961740.0         0.008046"
      ]
     },
     "execution_count": 14,
     "metadata": {},
     "output_type": "execute_result"
    }
   ],
   "source": [
    "# Directory where the raw exported attribute table is stored\n",
    "santiago_pop_block_centroid_dir = \"../../Air_pollution/02_data/santiago_block_centroids_raw.txt\"\n",
    "# Read table\n",
    "santiago_pop_block_centroid_raw = pd.read_csv(santiago_pop_block_centroid_dir)\n",
    "# Select useful columns: FID, TOTAL_PERS (population), centroid_x, centroid_y\n",
    "santiago_pop_block_centroid_df = santiago_pop_block_centroid_raw[[\"FID\", \"TOTAL_PERS\", \"centroid_x\", \"centroid_y\"]]\n",
    "\n",
    "# Apply minmax scaler to the population column to create a sampling probability field\n",
    "scaler = MinMaxScaler()\n",
    "santiago_pop_block_centroid_df[[\"sample_prob_pop\"]] = scaler.fit_transform(santiago_pop_block_centroid_df[[\"TOTAL_PERS\"]])\n",
    "santiago_pop_block_centroid_df.head()"
   ]
  },
  {
   "cell_type": "code",
   "execution_count": null,
   "metadata": {},
   "outputs": [],
   "source": []
  }
 ],
 "metadata": {
  "kernelspec": {
   "display_name": "wb0",
   "language": "python",
   "name": "wb0"
  },
  "language_info": {
   "codemirror_mode": {
    "name": "ipython",
    "version": 3
   },
   "file_extension": ".py",
   "mimetype": "text/x-python",
   "name": "python",
   "nbconvert_exporter": "python",
   "pygments_lexer": "ipython3",
   "version": "3.9.0"
  },
  "toc": {
   "base_numbering": 1,
   "nav_menu": {},
   "number_sections": true,
   "sideBar": true,
   "skip_h1_title": false,
   "title_cell": "Table of Contents",
   "title_sidebar": "Contents",
   "toc_cell": true,
   "toc_position": {
    "height": "calc(100% - 180px)",
    "left": "10px",
    "top": "150px",
    "width": "384px"
   },
   "toc_section_display": true,
   "toc_window_display": true
  }
 },
 "nbformat": 4,
 "nbformat_minor": 4
}

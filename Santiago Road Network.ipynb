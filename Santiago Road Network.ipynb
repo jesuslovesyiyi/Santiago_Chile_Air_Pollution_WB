{
 "cells": [
  {
   "cell_type": "markdown",
   "metadata": {
    "toc": true
   },
   "source": [
    "<h1>Table of Contents<span class=\"tocSkip\"></span></h1>\n",
    "<div class=\"toc\"><ul class=\"toc-item\"><li><span><a href=\"#Libraries\" data-toc-modified-id=\"Libraries-1\"><span class=\"toc-item-num\">1&nbsp;&nbsp;</span>Libraries</a></span></li></ul></div>"
   ]
  },
  {
   "cell_type": "markdown",
   "metadata": {},
   "source": [
    "# Libraries"
   ]
  },
  {
   "cell_type": "code",
   "execution_count": 1,
   "metadata": {
    "ExecuteTime": {
     "end_time": "2023-03-20T18:05:31.608387Z",
     "start_time": "2023-03-20T18:05:18.245300Z"
    }
   },
   "outputs": [],
   "source": [
    "import os\n",
    "import sys\n",
    "import networkx as nx\n",
    "import osmnx as ox\n",
    "import numpy as np\n",
    "import geopandas as gpd\n",
    "import matplotlib.pyplot as plt\n",
    "import pandas as pd\n",
    "import pickle\n",
    "\n",
    "import warnings; warnings.simplefilter('ignore')\n",
    "\n",
    "pd.options.display.max_columns = None\n",
    "pd.options.display.max_rows = 15"
   ]
  },
  {
   "cell_type": "code",
   "execution_count": 2,
   "metadata": {
    "ExecuteTime": {
     "end_time": "2023-03-20T18:05:33.911875Z",
     "start_time": "2023-03-20T18:05:33.811837Z"
    }
   },
   "outputs": [],
   "source": [
    "# Specify file path of the Santiago convex hull\n",
    "santiago_convexhull_path = '../../Air_pollution/02_data/santiago_convex_hull.shp'\n",
    "\n",
    "# Get graph (drive + service roads) from OSM\n",
    "# define coordinate system as EPSG: 4326, WGS84 - World Geodetic System 1984, used in GPS\n",
    "crs_lonlat = {'init': 'epsg:' + str(4326)}\n",
    "\n",
    "# Read convex hull boundary file\n",
    "bnd = gpd.read_file(santiago_convexhull_path).to_crs(crs_lonlat)"
   ]
  },
  {
   "cell_type": "markdown",
   "metadata": {},
   "source": [
    "Simple plot of the boundary"
   ]
  },
  {
   "cell_type": "code",
   "execution_count": 4,
   "metadata": {
    "ExecuteTime": {
     "end_time": "2023-03-20T18:06:20.749876Z",
     "start_time": "2023-03-20T18:06:20.582259Z"
    }
   },
   "outputs": [
    {
     "data": {
      "text/plain": [
       "<AxesSubplot:>"
      ]
     },
     "execution_count": 4,
     "metadata": {},
     "output_type": "execute_result"
    },
    {
     "data": {
      "image/png": "[encoded data removed]",
      "text/plain": [
       "<Figure size 432x288 with 1 Axes>"
      ]
     },
     "metadata": {
      "needs_background": "light"
     },
     "output_type": "display_data"
    }
   ],
   "source": [
    "bnd.plot()"
   ]
  },
  {
   "cell_type": "markdown",
   "metadata": {},
   "source": [
    "Extracting network from OSM database using OSMnx"
   ]
  },
  {
   "cell_type": "code",
   "execution_count": 5,
   "metadata": {
    "ExecuteTime": {
     "end_time": "2023-03-20T18:16:28.065087Z",
     "start_time": "2023-03-20T18:08:44.622236Z"
    }
   },
   "outputs": [],
   "source": [
    "G = ox.graph_from_polygon(bnd.geometry[0], network_type='all_private')"
   ]
  },
  {
   "cell_type": "code",
   "execution_count": 7,
   "metadata": {
    "ExecuteTime": {
     "end_time": "2023-03-20T19:05:02.476793Z",
     "start_time": "2023-03-20T19:04:57.495714Z"
    }
   },
   "outputs": [],
   "source": [
    "# Save graph file as .pk\n",
    "with open('../../Air_pollution/02_data/santiago_osmnx_all_private_graph.pk', 'wb') as handle:\n",
    "    pickle.dump(G, handle, protocol=2)"
   ]
  },
  {
   "cell_type": "code",
   "execution_count": 25,
   "metadata": {
    "ExecuteTime": {
     "end_time": "2023-03-20T19:34:13.723348Z",
     "start_time": "2023-03-20T19:29:29.542779Z"
    }
   },
   "outputs": [],
   "source": [
    "# Save as shapefile\n",
    "ox.io.save_graph_shapefile(G, filepath=G_shp_out_dir)"
   ]
  },
  {
   "cell_type": "code",
   "execution_count": null,
   "metadata": {},
   "outputs": [],
   "source": []
  }
 ],
 "metadata": {
  "kernelspec": {
   "display_name": "wb0",
   "language": "python",
   "name": "wb0"
  },
  "language_info": {
   "codemirror_mode": {
    "name": "ipython",
    "version": 3
   },
   "file_extension": ".py",
   "mimetype": "text/x-python",
   "name": "python",
   "nbconvert_exporter": "python",
   "pygments_lexer": "ipython3",
   "version": "3.9.0"
  },
  "toc": {
   "base_numbering": 1,
   "nav_menu": {},
   "number_sections": true,
   "sideBar": true,
   "skip_h1_title": false,
   "title_cell": "Table of Contents",
   "title_sidebar": "Contents",
   "toc_cell": true,
   "toc_position": {},
   "toc_section_display": true,
   "toc_window_display": true
  }
 },
 "nbformat": 4,
 "nbformat_minor": 4
}

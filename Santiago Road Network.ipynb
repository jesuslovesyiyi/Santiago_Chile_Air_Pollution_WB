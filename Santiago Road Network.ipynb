{
 "cells": [
  {
   "cell_type": "markdown",
   "metadata": {
    "toc": true
   },
   "source": [
    "<h1>Table of Contents<span class=\"tocSkip\"></span></h1>\n",
    "<div class=\"toc\"><ul class=\"toc-item\"><li><span><a href=\"#Libraries\" data-toc-modified-id=\"Libraries-1\"><span class=\"toc-item-num\">1&nbsp;&nbsp;</span>Libraries</a></span></li><li><span><a href=\"#Build-road-network-model\" data-toc-modified-id=\"Build-road-network-model-2\"><span class=\"toc-item-num\">2&nbsp;&nbsp;</span>Build road network model</a></span></li><li><span><a href=\"#OD-Trip-simulation\" data-toc-modified-id=\"OD-Trip-simulation-3\"><span class=\"toc-item-num\">3&nbsp;&nbsp;</span>OD Trip simulation</a></span><ul class=\"toc-item\"><li><span><a href=\"#Find-closest-road-access-points-for-centriods\" data-toc-modified-id=\"Find-closest-road-access-points-for-centriods-3.1\"><span class=\"toc-item-num\">3.1&nbsp;&nbsp;</span>Find closest road access points for centriods</a></span></li></ul></li></ul></div>"
   ]
  },
  {
   "cell_type": "markdown",
   "metadata": {},
   "source": [
    "# Libraries"
   ]
  },
  {
   "cell_type": "code",
   "execution_count": 44,
   "metadata": {
    "ExecuteTime": {
     "end_time": "2023-03-28T21:39:37.950778Z",
     "start_time": "2023-03-28T21:39:37.940871Z"
    }
   },
   "outputs": [],
   "source": [
    "import os\n",
    "import sys\n",
    "import networkx as nx\n",
    "import osmnx as ox\n",
    "import numpy as np\n",
    "import geopandas as gpd\n",
    "import matplotlib.pyplot as plt\n",
    "import pandas as pd\n",
    "import pickle\n",
    "from tqdm import tqdm\n",
    "from sklearn.preprocessing import MinMaxScaler\n",
    "\n",
    "import warnings; warnings.simplefilter('ignore')\n",
    "\n",
    "pd.options.display.max_columns = None\n",
    "pd.options.display.max_rows = 15"
   ]
  },
  {
   "cell_type": "markdown",
   "metadata": {},
   "source": [
    "# Build road network model"
   ]
  },
  {
   "cell_type": "code",
   "execution_count": 3,
   "metadata": {
    "ExecuteTime": {
     "end_time": "2023-03-22T22:22:18.828439Z",
     "start_time": "2023-03-22T22:22:18.733021Z"
    }
   },
   "outputs": [],
   "source": [
    "# Specify file path of the Santiago convex hull\n",
    "santiago_convexhull_path = '../../Air_pollution/02_data/santiago_pop_convex_hull.shp'\n",
    "\n",
    "# Get graph (drive + service roads) from OSM\n",
    "# define coordinate system as EPSG: 4326, WGS84 - World Geodetic System 1984, used in GPS\n",
    "crs_lonlat = {'init': 'epsg:' + str(4326)}\n",
    "\n",
    "# Read convex hull boundary file\n",
    "bnd = gpd.read_file(santiago_convexhull_path).to_crs(crs_lonlat)"
   ]
  },
  {
   "cell_type": "markdown",
   "metadata": {},
   "source": [
    "Simple plot of the boundary"
   ]
  },
  {
   "cell_type": "code",
   "execution_count": 4,
   "metadata": {
    "ExecuteTime": {
     "end_time": "2023-03-22T22:22:20.534043Z",
     "start_time": "2023-03-22T22:22:20.380682Z"
    }
   },
   "outputs": [
    {
     "data": {
      "text/plain": [
       "<AxesSubplot:>"
      ]
     },
     "execution_count": 4,
     "metadata": {},
     "output_type": "execute_result"
    },
    {
     "data": {
      "image/png": "[encoded data removed]",
      "text/plain": [
       "<Figure size 432x288 with 1 Axes>"
      ]
     },
     "metadata": {
      "needs_background": "light"
     },
     "output_type": "display_data"
    }
   ],
   "source": [
    "bnd.plot()"
   ]
  },
  {
   "cell_type": "markdown",
   "metadata": {},
   "source": [
    "Extracting network from OSM database using OSMnx"
   ]
  },
  {
   "cell_type": "code",
   "execution_count": 5,
   "metadata": {
    "ExecuteTime": {
     "end_time": "2023-03-22T22:30:32.474156Z",
     "start_time": "2023-03-22T22:22:31.268990Z"
    }
   },
   "outputs": [],
   "source": [
    "# Create graph using OSMnx, extracting all available road networks\n",
    "###\n",
    "# method: osmnx.graph_from_polygon(.shp, network_type, etc.)\n",
    "# ‘drive’         – get drivable public streets (but not service roads)\n",
    "# ‘drive_service’ – get drivable public streets, including service roads\n",
    "# ‘walk’          – get all streets and paths that pedestrians can use (this network type ignores one-way directionality)\n",
    "# ‘bike’         – get all streets and paths that cyclists can use\n",
    "# ‘all’          – download all (non-private) OSM streets and paths\n",
    "# ‘all_private’  – download all OSM streets and paths, including private-access ones\n",
    "###\n",
    "G = ox.graph_from_polygon(bnd.geometry[0], network_type='all_private')"
   ]
  },
  {
   "cell_type": "code",
   "execution_count": 6,
   "metadata": {
    "ExecuteTime": {
     "end_time": "2023-03-22T22:34:36.256625Z",
     "start_time": "2023-03-22T22:34:30.974559Z"
    }
   },
   "outputs": [],
   "source": [
    "# Save graph file as .pk\n",
    "with open('../../Air_pollution/02_data/santiago_osmnx_all_private_graph.pk', 'wb') as handle:\n",
    "    pickle.dump(G, handle, protocol=2)"
   ]
  },
  {
   "cell_type": "code",
   "execution_count": 8,
   "metadata": {
    "ExecuteTime": {
     "end_time": "2023-03-22T22:40:21.846966Z",
     "start_time": "2023-03-22T22:35:25.894700Z"
    }
   },
   "outputs": [],
   "source": [
    "# Save as shapefile\n",
    "G_shp_out_dir = '../../Air_pollution/02_data/'\n",
    "ox.io.save_graph_shapefile(G, filepath=G_shp_out_dir)"
   ]
  },
  {
   "cell_type": "markdown",
   "metadata": {},
   "source": [
    "# OD Trip simulation"
   ]
  },
  {
   "cell_type": "markdown",
   "metadata": {},
   "source": [
    "Run the cell below to load the graph file"
   ]
  },
  {
   "cell_type": "code",
   "execution_count": 24,
   "metadata": {
    "ExecuteTime": {
     "end_time": "2023-03-28T21:28:32.913571Z",
     "start_time": "2023-03-28T21:28:25.459514Z"
    }
   },
   "outputs": [],
   "source": [
    "G =  pickle.load(open('../../Air_pollution/02_data/santiago_osmnx_all_private_graph.pk', 'rb'))"
   ]
  },
  {
   "cell_type": "markdown",
   "metadata": {},
   "source": [
    "## Find closest road access points for centriods"
   ]
  },
  {
   "cell_type": "code",
   "execution_count": 3,
   "metadata": {
    "ExecuteTime": {
     "end_time": "2023-03-25T00:03:09.805167Z",
     "start_time": "2023-03-25T00:02:24.699889Z"
    }
   },
   "outputs": [
    {
     "data": {
      "text/html": [
       "<div>\n",
       "<style scoped>\n",
       "    .dataframe tbody tr th:only-of-type {\n",
       "        vertical-align: middle;\n",
       "    }\n",
       "\n",
       "    .dataframe tbody tr th {\n",
       "        vertical-align: top;\n",
       "    }\n",
       "\n",
       "    .dataframe thead th {\n",
       "        text-align: right;\n",
       "    }\n",
       "</style>\n",
       "<table border=\"1\" class=\"dataframe\">\n",
       "  <thead>\n",
       "    <tr style=\"text-align: right;\">\n",
       "      <th></th>\n",
       "      <th>fid_1</th>\n",
       "      <th>CUT</th>\n",
       "      <th>REGION</th>\n",
       "      <th>PROVINCIA</th>\n",
       "      <th>COMUNA</th>\n",
       "      <th>NOMBRE_DIS</th>\n",
       "      <th>CODIGO_DIS</th>\n",
       "      <th>MANZENT</th>\n",
       "      <th>ZONA_CENSA</th>\n",
       "      <th>MANZANA</th>\n",
       "      <th>TOTAL_PERS</th>\n",
       "      <th>TOTAL_HOMB</th>\n",
       "      <th>TOTAL_MUJE</th>\n",
       "      <th>PERSONAS_0</th>\n",
       "      <th>PERSONAS_6</th>\n",
       "      <th>PERSONAS_1</th>\n",
       "      <th>PERSONAS_M</th>\n",
       "      <th>PERSONAS_E</th>\n",
       "      <th>PUEBLOS_IN</th>\n",
       "      <th>TOTAL_VIV_</th>\n",
       "      <th>TOTAL_VIV1</th>\n",
       "      <th>VIV_OCUPA_</th>\n",
       "      <th>TOTAL_VIVI</th>\n",
       "      <th>CANTIDAD_H</th>\n",
       "      <th>VIV_TIPO_C</th>\n",
       "      <th>VIV_TIPO_D</th>\n",
       "      <th>VIV_TIPO_T</th>\n",
       "      <th>VIV_TIPO_P</th>\n",
       "      <th>VIV_TIPO_M</th>\n",
       "      <th>VIV_TIPO_1</th>\n",
       "      <th>VIV_TIPO_O</th>\n",
       "      <th>VIV_PARED_</th>\n",
       "      <th>VIV_PARED1</th>\n",
       "      <th>VIV_PARE_1</th>\n",
       "      <th>VIV_PARE_2</th>\n",
       "      <th>VIV_PARE_3</th>\n",
       "      <th>VIV_PARE_4</th>\n",
       "      <th>VIV_TECHO_</th>\n",
       "      <th>VIV_TECHO1</th>\n",
       "      <th>VIV_TECH_1</th>\n",
       "      <th>VIV_TECH_2</th>\n",
       "      <th>VIV_TECH_3</th>\n",
       "      <th>VIV_TECH_4</th>\n",
       "      <th>VIV_TECH_5</th>\n",
       "      <th>VIV_PISO_P</th>\n",
       "      <th>VIV_PISO_R</th>\n",
       "      <th>VIV_PISO_B</th>\n",
       "      <th>VIV_PISO_C</th>\n",
       "      <th>VIV_PISO_T</th>\n",
       "      <th>VIV_MATERI</th>\n",
       "      <th>VIV_MATE_1</th>\n",
       "      <th>VIV_MATE_2</th>\n",
       "      <th>VIV_AGUA_R</th>\n",
       "      <th>VIV_AGUA_P</th>\n",
       "      <th>VIV_AGUA_C</th>\n",
       "      <th>VIV_AGUA_1</th>\n",
       "      <th>Manzana_ce</th>\n",
       "      <th>Manzana__1</th>\n",
       "      <th>Manzana__2</th>\n",
       "      <th>Manzana__3</th>\n",
       "      <th>centroid_x</th>\n",
       "      <th>centroid_y</th>\n",
       "      <th>geometry</th>\n",
       "    </tr>\n",
       "  </thead>\n",
       "  <tbody>\n",
       "    <tr>\n",
       "      <th>0</th>\n",
       "      <td>1.0</td>\n",
       "      <td>13101.0</td>\n",
       "      <td>REGIÓN METROPOLITANA DE SANTIAGO</td>\n",
       "      <td>SANTIAGO</td>\n",
       "      <td>SANTIAGO</td>\n",
       "      <td>MATADERO</td>\n",
       "      <td>21.0</td>\n",
       "      <td>13101211002011</td>\n",
       "      <td>2.0</td>\n",
       "      <td>11.0</td>\n",
       "      <td>189.0</td>\n",
       "      <td>90</td>\n",
       "      <td>99</td>\n",
       "      <td>9</td>\n",
       "      <td>14</td>\n",
       "      <td>142</td>\n",
       "      <td>24</td>\n",
       "      <td>15</td>\n",
       "      <td>14</td>\n",
       "      <td>100.0</td>\n",
       "      <td>0.0</td>\n",
       "      <td>83.0</td>\n",
       "      <td>100.0</td>\n",
       "      <td>83.0</td>\n",
       "      <td>4.0</td>\n",
       "      <td>89.0</td>\n",
       "      <td>0.0</td>\n",
       "      <td>7.0</td>\n",
       "      <td>0.0</td>\n",
       "      <td>0.0</td>\n",
       "      <td>0.0</td>\n",
       "      <td>74.0</td>\n",
       "      <td>9.0</td>\n",
       "      <td>0.0</td>\n",
       "      <td>0.0</td>\n",
       "      <td>0.0</td>\n",
       "      <td>0.0</td>\n",
       "      <td>34.0</td>\n",
       "      <td>38.0</td>\n",
       "      <td>11.0</td>\n",
       "      <td>0.0</td>\n",
       "      <td>0.0</td>\n",
       "      <td>0.0</td>\n",
       "      <td>0.0</td>\n",
       "      <td>83.0</td>\n",
       "      <td>0.0</td>\n",
       "      <td>0.0</td>\n",
       "      <td>0.0</td>\n",
       "      <td>0.0</td>\n",
       "      <td>83.0</td>\n",
       "      <td>0.0</td>\n",
       "      <td>0.0</td>\n",
       "      <td>82.0</td>\n",
       "      <td>0.0</td>\n",
       "      <td>0.0</td>\n",
       "      <td>0.0</td>\n",
       "      <td>0.121693</td>\n",
       "      <td>0.126984</td>\n",
       "      <td>0.079365</td>\n",
       "      <td>0.074074</td>\n",
       "      <td>-7864610.0</td>\n",
       "      <td>-3958370.0</td>\n",
       "      <td>POINT (-70.64899 -33.47385)</td>\n",
       "    </tr>\n",
       "    <tr>\n",
       "      <th>1</th>\n",
       "      <td>2.0</td>\n",
       "      <td>13102.0</td>\n",
       "      <td>REGIÓN METROPOLITANA DE SANTIAGO</td>\n",
       "      <td>SANTIAGO</td>\n",
       "      <td>CERRILLOS</td>\n",
       "      <td>DIVINO MAESTRO</td>\n",
       "      <td>3.0</td>\n",
       "      <td>13102031005035</td>\n",
       "      <td>5.0</td>\n",
       "      <td>35.0</td>\n",
       "      <td>80.0</td>\n",
       "      <td>39</td>\n",
       "      <td>41</td>\n",
       "      <td>8</td>\n",
       "      <td>7</td>\n",
       "      <td>51</td>\n",
       "      <td>14</td>\n",
       "      <td>Indeterminado</td>\n",
       "      <td>5</td>\n",
       "      <td>20.0</td>\n",
       "      <td>0.0</td>\n",
       "      <td>20.0</td>\n",
       "      <td>20.0</td>\n",
       "      <td>23.0</td>\n",
       "      <td>20.0</td>\n",
       "      <td>0.0</td>\n",
       "      <td>0.0</td>\n",
       "      <td>0.0</td>\n",
       "      <td>0.0</td>\n",
       "      <td>0.0</td>\n",
       "      <td>0.0</td>\n",
       "      <td>2.0</td>\n",
       "      <td>12.0</td>\n",
       "      <td>4.0</td>\n",
       "      <td>2.0</td>\n",
       "      <td>0.0</td>\n",
       "      <td>0.0</td>\n",
       "      <td>5.0</td>\n",
       "      <td>0.0</td>\n",
       "      <td>14.0</td>\n",
       "      <td>1.0</td>\n",
       "      <td>0.0</td>\n",
       "      <td>0.0</td>\n",
       "      <td>0.0</td>\n",
       "      <td>14.0</td>\n",
       "      <td>0.0</td>\n",
       "      <td>6.0</td>\n",
       "      <td>0.0</td>\n",
       "      <td>0.0</td>\n",
       "      <td>12.0</td>\n",
       "      <td>8.0</td>\n",
       "      <td>0.0</td>\n",
       "      <td>20.0</td>\n",
       "      <td>0.0</td>\n",
       "      <td>0.0</td>\n",
       "      <td>0.0</td>\n",
       "      <td>0.187500</td>\n",
       "      <td>0.175000</td>\n",
       "      <td>999.000000</td>\n",
       "      <td>0.062500</td>\n",
       "      <td>-7874070.0</td>\n",
       "      <td>-3961680.0</td>\n",
       "      <td>POINT (-70.73397 -33.49865)</td>\n",
       "    </tr>\n",
       "    <tr>\n",
       "      <th>2</th>\n",
       "      <td>3.0</td>\n",
       "      <td>13102.0</td>\n",
       "      <td>REGIÓN METROPOLITANA DE SANTIAGO</td>\n",
       "      <td>SANTIAGO</td>\n",
       "      <td>CERRILLOS</td>\n",
       "      <td>DIVINO MAESTRO</td>\n",
       "      <td>3.0</td>\n",
       "      <td>13102031003007</td>\n",
       "      <td>3.0</td>\n",
       "      <td>7.0</td>\n",
       "      <td>29.0</td>\n",
       "      <td>13</td>\n",
       "      <td>16</td>\n",
       "      <td>Indeterminado</td>\n",
       "      <td>Indeterminado</td>\n",
       "      <td>17</td>\n",
       "      <td>8</td>\n",
       "      <td>0</td>\n",
       "      <td>Indeterminado</td>\n",
       "      <td>9.0</td>\n",
       "      <td>0.0</td>\n",
       "      <td>9.0</td>\n",
       "      <td>9.0</td>\n",
       "      <td>11.0</td>\n",
       "      <td>9.0</td>\n",
       "      <td>0.0</td>\n",
       "      <td>0.0</td>\n",
       "      <td>0.0</td>\n",
       "      <td>0.0</td>\n",
       "      <td>0.0</td>\n",
       "      <td>0.0</td>\n",
       "      <td>0.0</td>\n",
       "      <td>9.0</td>\n",
       "      <td>0.0</td>\n",
       "      <td>0.0</td>\n",
       "      <td>0.0</td>\n",
       "      <td>0.0</td>\n",
       "      <td>0.0</td>\n",
       "      <td>0.0</td>\n",
       "      <td>9.0</td>\n",
       "      <td>0.0</td>\n",
       "      <td>0.0</td>\n",
       "      <td>0.0</td>\n",
       "      <td>0.0</td>\n",
       "      <td>9.0</td>\n",
       "      <td>0.0</td>\n",
       "      <td>0.0</td>\n",
       "      <td>0.0</td>\n",
       "      <td>0.0</td>\n",
       "      <td>9.0</td>\n",
       "      <td>0.0</td>\n",
       "      <td>0.0</td>\n",
       "      <td>9.0</td>\n",
       "      <td>0.0</td>\n",
       "      <td>0.0</td>\n",
       "      <td>0.0</td>\n",
       "      <td>0.000000</td>\n",
       "      <td>0.275862</td>\n",
       "      <td>0.000000</td>\n",
       "      <td>999.000000</td>\n",
       "      <td>-7872570.0</td>\n",
       "      <td>-3961700.0</td>\n",
       "      <td>POINT (-70.72050 -33.49880)</td>\n",
       "    </tr>\n",
       "  </tbody>\n",
       "</table>\n",
       "</div>"
      ],
      "text/plain": [
       "   fid_1      CUT                            REGION PROVINCIA     COMUNA  \\\n",
       "0    1.0  13101.0  REGIÓN METROPOLITANA DE SANTIAGO  SANTIAGO   SANTIAGO   \n",
       "1    2.0  13102.0  REGIÓN METROPOLITANA DE SANTIAGO  SANTIAGO  CERRILLOS   \n",
       "2    3.0  13102.0  REGIÓN METROPOLITANA DE SANTIAGO  SANTIAGO  CERRILLOS   \n",
       "\n",
       "       NOMBRE_DIS  CODIGO_DIS         MANZENT  ZONA_CENSA  MANZANA  \\\n",
       "0        MATADERO        21.0  13101211002011         2.0     11.0   \n",
       "1  DIVINO MAESTRO         3.0  13102031005035         5.0     35.0   \n",
       "2  DIVINO MAESTRO         3.0  13102031003007         3.0      7.0   \n",
       "\n",
       "   TOTAL_PERS TOTAL_HOMB TOTAL_MUJE     PERSONAS_0     PERSONAS_6 PERSONAS_1  \\\n",
       "0       189.0         90         99              9             14        142   \n",
       "1        80.0         39         41              8              7         51   \n",
       "2        29.0         13         16  Indeterminado  Indeterminado         17   \n",
       "\n",
       "  PERSONAS_M     PERSONAS_E     PUEBLOS_IN  TOTAL_VIV_  TOTAL_VIV1  \\\n",
       "0         24             15             14       100.0         0.0   \n",
       "1         14  Indeterminado              5        20.0         0.0   \n",
       "2          8              0  Indeterminado         9.0         0.0   \n",
       "\n",
       "   VIV_OCUPA_  TOTAL_VIVI  CANTIDAD_H  VIV_TIPO_C  VIV_TIPO_D  VIV_TIPO_T  \\\n",
       "0        83.0       100.0        83.0         4.0        89.0         0.0   \n",
       "1        20.0        20.0        23.0        20.0         0.0         0.0   \n",
       "2         9.0         9.0        11.0         9.0         0.0         0.0   \n",
       "\n",
       "   VIV_TIPO_P  VIV_TIPO_M  VIV_TIPO_1  VIV_TIPO_O  VIV_PARED_  VIV_PARED1  \\\n",
       "0         7.0         0.0         0.0         0.0        74.0         9.0   \n",
       "1         0.0         0.0         0.0         0.0         2.0        12.0   \n",
       "2         0.0         0.0         0.0         0.0         0.0         9.0   \n",
       "\n",
       "   VIV_PARE_1  VIV_PARE_2  VIV_PARE_3  VIV_PARE_4  VIV_TECHO_  VIV_TECHO1  \\\n",
       "0         0.0         0.0         0.0         0.0        34.0        38.0   \n",
       "1         4.0         2.0         0.0         0.0         5.0         0.0   \n",
       "2         0.0         0.0         0.0         0.0         0.0         0.0   \n",
       "\n",
       "   VIV_TECH_1  VIV_TECH_2  VIV_TECH_3  VIV_TECH_4  VIV_TECH_5  VIV_PISO_P  \\\n",
       "0        11.0         0.0         0.0         0.0         0.0        83.0   \n",
       "1        14.0         1.0         0.0         0.0         0.0        14.0   \n",
       "2         9.0         0.0         0.0         0.0         0.0         9.0   \n",
       "\n",
       "   VIV_PISO_R  VIV_PISO_B  VIV_PISO_C  VIV_PISO_T  VIV_MATERI  VIV_MATE_1  \\\n",
       "0         0.0         0.0         0.0         0.0        83.0         0.0   \n",
       "1         0.0         6.0         0.0         0.0        12.0         8.0   \n",
       "2         0.0         0.0         0.0         0.0         9.0         0.0   \n",
       "\n",
       "   VIV_MATE_2  VIV_AGUA_R  VIV_AGUA_P  VIV_AGUA_C  VIV_AGUA_1  Manzana_ce  \\\n",
       "0         0.0        82.0         0.0         0.0         0.0    0.121693   \n",
       "1         0.0        20.0         0.0         0.0         0.0    0.187500   \n",
       "2         0.0         9.0         0.0         0.0         0.0    0.000000   \n",
       "\n",
       "   Manzana__1  Manzana__2  Manzana__3  centroid_x  centroid_y  \\\n",
       "0    0.126984    0.079365    0.074074  -7864610.0  -3958370.0   \n",
       "1    0.175000  999.000000    0.062500  -7874070.0  -3961680.0   \n",
       "2    0.275862    0.000000  999.000000  -7872570.0  -3961700.0   \n",
       "\n",
       "                      geometry  \n",
       "0  POINT (-70.64899 -33.47385)  \n",
       "1  POINT (-70.73397 -33.49865)  \n",
       "2  POINT (-70.72050 -33.49880)  "
      ]
     },
     "execution_count": 3,
     "metadata": {},
     "output_type": "execute_result"
    }
   ],
   "source": [
    "# Read in the centroids (points) of Santiago blocks as geopandas dataframe\n",
    "santiago_centriods_pts_path = \"../../Air_pollution/02_data/santiago_block_centroids_wgs84.shp\"\n",
    "santiago_centriods_pts = gpd.read_file(santiago_centriods_pts_path)\n",
    "santiago_centriods_pts.head(3)"
   ]
  },
  {
   "cell_type": "code",
   "execution_count": 4,
   "metadata": {
    "ExecuteTime": {
     "end_time": "2023-03-25T00:45:03.018775Z",
     "start_time": "2023-03-25T00:45:02.958338Z"
    }
   },
   "outputs": [],
   "source": [
    "# Collect useful columns: 'TOTAL_PERS', 'geometry'\n",
    "santiago_centriods_pts_df = santiago_centriods_pts[['TOTAL_PERS', 'geometry']]\n",
    "\n",
    "# Get latitude and longitude values for centroids\n",
    "santiago_centriods_pts_df['centroid_lat'] = santiago_centriods_pts_df['geometry'].y\n",
    "santiago_centriods_pts_df['centroid_lon'] = santiago_centriods_pts_df['geometry'].x\n",
    "\n",
    "# Apply minmax scaler to the population column to create a sampling probability field\n",
    "scaler = MinMaxScaler()\n",
    "santiago_centriods_pts_df[['sample_prob_pop']] = scaler.fit_transform(santiago_centriods_pts_df[['TOTAL_PERS']])\n",
    "\n",
    "# Add new index for all centroids\n",
    "santiago_centriods_pts_df['id'] = santiago_centriods_pts_df.index\n",
    "# Shift column 'id' to first position\n",
    "first_column = santiago_centriods_pts_df.pop('id')\n",
    "# Insert column using insert(position, column_name, first_column) function\n",
    "santiago_centriods_pts_df.insert(0, 'id', first_column)"
   ]
  },
  {
   "cell_type": "markdown",
   "metadata": {},
   "source": [
    "Find neartest access node and calculate the distance between the block centroid and the access node"
   ]
  },
  {
   "cell_type": "code",
   "execution_count": null,
   "metadata": {
    "ExecuteTime": {
     "start_time": "2023-03-28T21:39:47.569Z"
    }
   },
   "outputs": [
    {
     "name": "stderr",
     "output_type": "stream",
     "text": [
      " 90%|██████████████████████████████▋   | 42812/47402 [28:00:47<1:43:39,  1.36s/it]"
     ]
    }
   ],
   "source": [
    "# Find closest access points in the graph/network\n",
    "# and the distance (meters) between the centroids and access points\n",
    "# TAKES LONG TIME TO RUN!\n",
    "id_accessOSMid_distancem = []\n",
    "for row in tqdm(range(santiago_centriods_pts_df.shape[0])):\n",
    "    row_id = row\n",
    "    # Get the lat and lon of block centroids\n",
    "    centroid_lat = santiago_centriods_pts_df.loc[santiago_centriods_pts_df['id']==row_id]['centroid_lat'][row_id]\n",
    "    centroid_lon = santiago_centriods_pts_df.loc[santiago_centriods_pts_df['id']==row_id]['centroid_lon'][row_id]\n",
    "    \n",
    "    # find nearest access point\n",
    "    access_OSMid, distance_m = ox.distance.nearest_nodes(G, centroid_lon, centroid_lat, return_dist=True)\n",
    "    \n",
    "    # Store the node id, OSM id of access point, and distance between access node and block centroid (unit: meters)\n",
    "    id_accessOSMid_distancem.append([row_id, access_OSMid, distance_m])"
   ]
  },
  {
   "cell_type": "code",
   "execution_count": 42,
   "metadata": {
    "ExecuteTime": {
     "end_time": "2023-03-28T21:37:08.419167Z",
     "start_time": "2023-03-28T21:37:08.411171Z"
    }
   },
   "outputs": [
    {
     "data": {
      "text/html": [
       "<div>\n",
       "<style scoped>\n",
       "    .dataframe tbody tr th:only-of-type {\n",
       "        vertical-align: middle;\n",
       "    }\n",
       "\n",
       "    .dataframe tbody tr th {\n",
       "        vertical-align: top;\n",
       "    }\n",
       "\n",
       "    .dataframe thead th {\n",
       "        text-align: right;\n",
       "    }\n",
       "</style>\n",
       "<table border=\"1\" class=\"dataframe\">\n",
       "  <thead>\n",
       "    <tr style=\"text-align: right;\">\n",
       "      <th></th>\n",
       "      <th>0</th>\n",
       "      <th>1</th>\n",
       "      <th>2</th>\n",
       "    </tr>\n",
       "  </thead>\n",
       "  <tbody>\n",
       "    <tr>\n",
       "      <th>0</th>\n",
       "      <td>0</td>\n",
       "      <td>9000087782</td>\n",
       "      <td>13.310517</td>\n",
       "    </tr>\n",
       "    <tr>\n",
       "      <th>1</th>\n",
       "      <td>1</td>\n",
       "      <td>9192187479</td>\n",
       "      <td>40.396543</td>\n",
       "    </tr>\n",
       "    <tr>\n",
       "      <th>2</th>\n",
       "      <td>2</td>\n",
       "      <td>1856490959</td>\n",
       "      <td>29.102015</td>\n",
       "    </tr>\n",
       "    <tr>\n",
       "      <th>3</th>\n",
       "      <td>3</td>\n",
       "      <td>9000087770</td>\n",
       "      <td>8.491737</td>\n",
       "    </tr>\n",
       "    <tr>\n",
       "      <th>4</th>\n",
       "      <td>4</td>\n",
       "      <td>1846000011</td>\n",
       "      <td>26.467173</td>\n",
       "    </tr>\n",
       "  </tbody>\n",
       "</table>\n",
       "</div>"
      ],
      "text/plain": [
       "   0           1          2\n",
       "0  0  9000087782  13.310517\n",
       "1  1  9192187479  40.396543\n",
       "2  2  1856490959  29.102015\n",
       "3  3  9000087770   8.491737\n",
       "4  4  1846000011  26.467173"
      ]
     },
     "execution_count": 42,
     "metadata": {},
     "output_type": "execute_result"
    }
   ],
   "source": [
    "# Create new dataframe for node id, OSM id of access point, and distance between access node and block centroid (unit: meters)\n",
    "id_accessOSMid_distancem_df = pd.DataFrame(id_accessOSMid_distancem)\n",
    "\n",
    "# Rename columns\n",
    "id_accessOSMid_distancem_df"
   ]
  },
  {
   "cell_type": "markdown",
   "metadata": {},
   "source": [
    "Let's check the resulting dataframe"
   ]
  }
 ],
 "metadata": {
  "kernelspec": {
   "display_name": "wb3",
   "language": "python",
   "name": "wb3"
  },
  "language_info": {
   "codemirror_mode": {
    "name": "ipython",
    "version": 3
   },
   "file_extension": ".py",
   "mimetype": "text/x-python",
   "name": "python",
   "nbconvert_exporter": "python",
   "pygments_lexer": "ipython3",
   "version": "3.9.16"
  },
  "toc": {
   "base_numbering": 1,
   "nav_menu": {},
   "number_sections": true,
   "sideBar": true,
   "skip_h1_title": false,
   "title_cell": "Table of Contents",
   "title_sidebar": "Contents",
   "toc_cell": true,
   "toc_position": {
    "height": "calc(100% - 180px)",
    "left": "10px",
    "top": "150px",
    "width": "384px"
   },
   "toc_section_display": true,
   "toc_window_display": true
  }
 },
 "nbformat": 4,
 "nbformat_minor": 4
}
